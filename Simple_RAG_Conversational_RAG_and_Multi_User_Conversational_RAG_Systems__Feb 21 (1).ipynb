{
 "cells": [
  {
   "cell_type": "markdown",
   "metadata": {
    "id": "p3eREw2pcdqm"
   },
   "source": [
    "# Basic RAG System with LangChain\n",
    "\n",
    "\n"
   ]
  },
  {
   "cell_type": "markdown",
   "metadata": {
    "id": "eiC3bewyVzQC"
   },
   "source": [
    "## QA Search Engine using Large Language Models - ChatGPT\n",
    "\n",
    "Here we use an Open AI LLM to generate contextual embeddings for each wikipedia article.\n",
    "\n",
    "Then we use ChatGPT (GPT3.5) to answer questions just as a human would by searching for the most similar article based on our input queries.\n",
    "\n",
    "The new model, `text-embedding-3-small` is our new highly efficient embedding model and provides a significant upgrade over its predecessor, the `text-embedding-ada-002` model released in December 2022.\n",
    "\n",
    "Stronger performance. Comparing `text-embedding-ada-002` to `text-embedding-3-small`, the average score on a commonly used benchmark for multi-language retrieval (MIRACL(opens in a new window)) has increased from 31.4% to 44.0%, while the average score on a commonly used benchmark for English tasks (MTEB(opens in a new window)) has increased from 61.0% to 62.3%.\n",
    "\n",
    "Reduced price. `text-embedding-3-small` is also substantially more efficient than our previous generation `text-embedding-ada-002` model. Pricing for `text-embedding-3-small` has therefore been reduced by 5X compared to `text-embedding-ada-002`, from a price per 1k tokens of $0.0001 to $0.00002.\n",
    "\n",
    "GPT-3.5 models can understand and generate natural language or code. The most capable and cost effective model in the GPT-3.5 family is `gpt-3.5-turbo` which has been optimized for chat using the Chat Completions API but works well for traditional completions tasks as well."
   ]
  },
  {
   "cell_type": "markdown",
   "metadata": {
    "id": "FPj5mhnc4lp_"
   },
   "source": [
    "### Load Dependencies"
   ]
  },
  {
   "cell_type": "code",
   "execution_count": null,
   "metadata": {
    "id": "3J_Z9mKEa8fM"
   },
   "outputs": [],
   "source": [
    "# !pip install langchain==0.1.16          ## Core LangChain framework for building LLM applications and chains\n",
    "# !pip install langchain-openai==0.1.3    ## OpenAI-specific integrations for LangChain (GPT models, embeddings)\n",
    "# !pip install langchain-community==0.0.33 ## Community-maintained integrations with various tools and services\n",
    "# !pip install langchain-chroma==0.1.0    ## Integration between LangChain and ChromaDB vector store\n",
    "# !pip install langchainhub==0.1.15       ## Access to shared/community prompts and chains from LangChain Hub"
   ]
  },
  {
   "cell_type": "markdown",
   "metadata": {
    "id": "PtBa7rlWJWH3"
   },
   "source": [
    "## Enter API Tokens"
   ]
  },
  {
   "cell_type": "markdown",
   "metadata": {
    "id": "H49YNOUpw9z5"
   },
   "source": [
    "*This imports the getpass function from the getpass module. The getpass function allows for secure password input in the command line without displaying what's being typed*"
   ]
  },
  {
   "cell_type": "code",
   "execution_count": null,
   "metadata": {
    "colab": {
     "base_uri": "https://localhost:8080/"
    },
    "id": "Av1UpSgXZUsI",
    "outputId": "328f7d6f-82d4-4655-c63f-238dcb670c89"
   },
   "outputs": [
    {
     "name": "stdout",
     "output_type": "stream",
     "text": [
      "··········\n"
     ]
    }
   ],
   "source": [
    "from getpass import getpass\n",
    "\n",
    "# This line prompts the user to enter their OpenAI API key securely. The entered key is stored in the OPENAI_KEY variable.\n",
    "\n",
    "OPENAI_KEY = getpass()"
   ]
  },
  {
   "cell_type": "markdown",
   "metadata": {
    "id": "4Jha5DjtxKfx"
   },
   "source": [
    "*This line sets an environment variable named 'OPENAI_API_KEY' with the value of OPENAI_KEY (the API key entered by the user). Environment variables are often used to store configuration settings or sensitive information like API keys.\n",
    "Overall, this code snippet is a secure way to set up the OpenAI API key as an environment variable, which can then be used by other parts of the program to authenticate requests to the OpenAI API.*"
   ]
  },
  {
   "cell_type": "code",
   "execution_count": null,
   "metadata": {
    "id": "1PIStD04Zp9p"
   },
   "outputs": [],
   "source": [
    "import os\n",
    "\n",
    "os.environ['OPENAI_API_KEY'] = OPENAI_KEY"
   ]
  },
  {
   "cell_type": "markdown",
   "metadata": {
    "id": "wmUCqWtf5gpk"
   },
   "source": [
    "### Load Wikipedia Data"
   ]
  },
  {
   "cell_type": "markdown",
   "metadata": {
    "id": "xEWpEE_OxkYI"
   },
   "source": [
    "\n",
    "\n",
    "```\n",
    "# This is formatted as code\n",
    "```\n",
    "\n",
    "*This Python code defines a function to download a file from a URL and then uses it to download a specific Wikipedia dataset. *"
   ]
  },
  {
   "cell_type": "code",
   "execution_count": null,
   "metadata": {
    "colab": {
     "base_uri": "https://localhost:8080/"
    },
    "id": "QQjM-gKUDT1Q",
    "outputId": "58c20411-3bcd-40ad-d8be-0520e382eef7"
   },
   "outputs": [
    {
     "name": "stderr",
     "output_type": "stream",
     "text": [
      "100%|██████████| 50.2M/50.2M [00:17<00:00, 2.91MB/s]\n"
     ]
    }
   ],
   "source": [
    "import gzip # for handling gzipped files\n",
    "import json # for JSON processing\n",
    "import requests # for HTTP requests,\n",
    "from tqdm import tqdm #  for progress bars\n",
    "import sys\n",
    "import os\n",
    "\n",
    "# Download a file from a URL\n",
    "def http_get(url, path) -> None:  # This function downloads a file from a given URL to a specified path on the disk.\n",
    "    \"\"\"\n",
    "    Downloads a URL to a given path on disc\n",
    "    \"\"\"\n",
    "    if os.path.dirname(path) != \"\":\n",
    "        os.makedirs(os.path.dirname(path), exist_ok=True)\n",
    "\n",
    "    req = requests.get(url, stream=True)\n",
    "    if req.status_code != 200:\n",
    "        print(\"Exception when trying to download {}. Response {}\".format(url, req.status_code), file=sys.stderr)\n",
    "        req.raise_for_status()\n",
    "        return\n",
    "\n",
    "    download_filepath = path + \"_part\"\n",
    "    with open(download_filepath, \"wb\") as file_binary:\n",
    "        content_length = req.headers.get(\"Content-Length\")\n",
    "        total = int(content_length) if content_length is not None else None\n",
    "        progress = tqdm(unit=\"B\", total=total, unit_scale=True)\n",
    "        for chunk in req.iter_content(chunk_size=1024):\n",
    "            if chunk:  # filter out keep-alive new chunks\n",
    "                progress.update(len(chunk))\n",
    "                file_binary.write(chunk)\n",
    "\n",
    "    os.rename(download_filepath, path)\n",
    "    progress.close()\n",
    "\n",
    "\n",
    "wikipedia_filepath = 'simplewiki-2020-11-01.jsonl.gz'\n",
    "\n",
    "http_get('http://sbert.net/datasets/simplewiki-2020-11-01.jsonl.gz', wikipedia_filepath)"
   ]
  },
  {
   "cell_type": "code",
   "execution_count": null,
   "metadata": {
    "colab": {
     "base_uri": "https://localhost:8080/"
    },
    "id": "9_NrBVzteHaZ",
    "outputId": "4e1f343f-0344-4fee-b40f-ce5422c833d2"
   },
   "outputs": [
    {
     "name": "stdout",
     "output_type": "stream",
     "text": [
      "Passages: 169597\n"
     ]
    }
   ],
   "source": [
    "import gzip\n",
    "import json\n",
    "\n",
    "wikipedia_filepath = 'simplewiki-2020-11-01.jsonl.gz'\n",
    "\n",
    "passages = []\n",
    "with gzip.open(wikipedia_filepath, 'rt', encoding='utf8') as fIn:\n",
    "    for line in fIn:\n",
    "\n",
    "        # This loop reads the file line by line. Each line is a JSON object, so json.loads() is used to parse it into a Python dictionary.\n",
    "        # line.strip() removes any whitespace at the beginning or end of the line.\n",
    "        data = json.loads(line.strip())\n",
    "\n",
    "        #Add all paragraphs\n",
    "        #passages.extend(data['paragraphs'])\n",
    "\n",
    "        #Only add the first paragraph\n",
    "        passages.append(data['paragraphs'][0])\n",
    "\n",
    "print(\"Passages:\", len(passages))"
   ]
  },
  {
   "cell_type": "code",
   "execution_count": null,
   "metadata": {
    "id": "Id4P7kZ-DT1R"
   },
   "outputs": [],
   "source": [
    "# We subset our data so we only use a subset of wikipedia to run things faster\n",
    "passages = [passage for passage in passages for x in ['fish', 'india', 'cheetah']\n",
    "              if x in passage.lower().split()]\n",
    "passages = [passage for passage in passages for x in ['flying fish', 'india', 'cheetah']\n",
    "              if x in passage.lower()]"
   ]
  },
  {
   "cell_type": "code",
   "execution_count": null,
   "metadata": {
    "colab": {
     "base_uri": "https://localhost:8080/"
    },
    "id": "e13_oFtlDT1S",
    "outputId": "cf9e10b3-dcf5-40df-c0e4-1c91cf84919d"
   },
   "outputs": [
    {
     "data": {
      "text/plain": [
       "793"
      ]
     },
     "execution_count": 9,
     "metadata": {},
     "output_type": "execute_result"
    }
   ],
   "source": [
    "len(passages)"
   ]
  },
  {
   "cell_type": "code",
   "execution_count": null,
   "metadata": {
    "colab": {
     "base_uri": "https://localhost:8080/",
     "height": 87
    },
    "id": "sm77itlPEDx0",
    "outputId": "3227a334-2711-4a36-9e1f-18ee9ef2f462"
   },
   "outputs": [
    {
     "data": {
      "application/vnd.google.colaboratory.intrinsic+json": {
       "type": "string"
      },
      "text/plain": [
       "'Basil (\"Ocimum basilicum\") ( or ) is a plant of the Family Lamiaceae. It is also known as Sweet Basil or Tulsi. It is a tender low-growing herb that is grown as a perennial in warm, tropical climates. Basil is originally native to India and other tropical regions of Asia. It has been cultivated there for more than 5,000 years. It is prominently featured in many cuisines throughout the world. Some of them are Italian, Thai, Vietnamese and Laotian cuisines. It grows to between 30–60\\xa0cm tall. It has light green, silky leaves 3–5\\xa0cm long and 1–3\\xa0cm broad. The leaves are opposite each other. The flowers are quite big. They are white in color and arranged as a spike.'"
      ]
     },
     "execution_count": 10,
     "metadata": {},
     "output_type": "execute_result"
    }
   ],
   "source": [
    "passages[0]"
   ]
  },
  {
   "cell_type": "markdown",
   "metadata": {
    "id": "KZUxQwCl5jY-"
   },
   "source": [
    "### Load Open AI LLMs"
   ]
  },
  {
   "cell_type": "code",
   "execution_count": null,
   "metadata": {
    "id": "0NKUgjxLL-Ux"
   },
   "outputs": [],
   "source": [
    "from langchain_openai import ChatOpenAI\n",
    "\n",
    "chatgpt = ChatOpenAI(model_name=\"gpt-4o-mini\", temperature=0)"
   ]
  },
  {
   "cell_type": "markdown",
   "metadata": {
    "id": "K1nD_kYA5ncq"
   },
   "source": [
    "### Generate LLM Embeddings and store them in Chroma Vector DB\n",
    "\n",
    "**Chroma Vector DB** is a versatile, open-source vector database designed for managing and querying vector embeddings. It is easy to set up and integrates well with various AI tools and algorithms. Chroma is particularly useful for applications that require rapid and precise retrieval of content represented as embeddings—efficient data formats for text, images, and soon, audio and video.\n",
    "\n",
    "**Key Features:**\n",
    "- **Integration with AI Tools:** Chroma supports embedding functions from leading providers like OpenAI, Google, and Hugging Face, allowing for flexible and powerful data handling.\n",
    "- **Ease of Use:** The database provides default embedding functions, or users can integrate external APIs to generate embeddings.\n",
    "- **Efficient Querying:** Users can create collections to store embeddings, documents, and metadata. These can be queried to retrieve the most similar items, making information retrieval quick and effective.\n",
    "- **Flexible API:** Chroma offers a straightforward API that supports both standard operations and custom embedding functions.\n",
    "\n",
    "For more detailed information, visit the official Chroma documentation [here](https://docs.trychroma.com).\n"
   ]
  },
  {
   "cell_type": "code",
   "execution_count": null,
   "metadata": {
    "colab": {
     "base_uri": "https://localhost:8080/"
    },
    "id": "bbEe-0csNRmB",
    "outputId": "34b08a06-58df-4835-cfcb-9590d7bbcdd6"
   },
   "outputs": [
    {
     "data": {
      "text/plain": [
       "['Basil (\"Ocimum basilicum\") ( or ) is a plant of the Family Lamiaceae. It is also known as Sweet Basil or Tulsi. It is a tender low-growing herb that is grown as a perennial in warm, tropical climates. Basil is originally native to India and other tropical regions of Asia. It has been cultivated there for more than 5,000 years. It is prominently featured in many cuisines throughout the world. Some of them are Italian, Thai, Vietnamese and Laotian cuisines. It grows to between 30–60\\xa0cm tall. It has light green, silky leaves 3–5\\xa0cm long and 1–3\\xa0cm broad. The leaves are opposite each other. The flowers are quite big. They are white in color and arranged as a spike.',\n",
       " 'The Roerich Pact is a treaty on Protection of Artistic and Scientific Institutions and Historic Monuments, signed by the representatives of 21 states in the Oval Office of the White House on 15 April 1935. As of January 1, 1990, the Roerich Pact had been ratified by ten nations: Brazil, Chile, Colombia, Cuba, the Dominican Republic, El Salvador, Guatemala, Mexico, the United States, and Venezuela. It went into effect on 26 August 1935. The Government of India approved the Treaty in 1948, but did not take any further formal action. The Roerich Pact is also known as \"Pax Cultura\" (\"Cultural Peace\" or \"Peace through Culture\"). The most important part of the Roerich Pact is the legal recognition that the protection of culture is always more important than any military necessity.',\n",
       " \"The Indian Air Force is the air arm of the Indian Military. The Royal Indian Air Force was founded on 1 April 1932 as part of the armed forces of the British Empire. In 1950, after independence, India dropped the word 'Royal' from the name.\"]"
      ]
     },
     "execution_count": 12,
     "metadata": {},
     "output_type": "execute_result"
    }
   ],
   "source": [
    "passages[:3]"
   ]
  },
  {
   "cell_type": "markdown",
   "metadata": {
    "id": "I91AU4wU75Bh"
   },
   "source": [
    "This code is setting up an embedding model using OpenAI's API through the LangChain library.\n",
    "This line imports the OpenAIEmbeddings class from the langchain_openai module.\n",
    "LangChain is a library that provides abstractions for working with various language models and APIs, including OpenAI's."
   ]
  },
  {
   "cell_type": "code",
   "execution_count": null,
   "metadata": {
    "id": "HyFSs6xZfzok"
   },
   "outputs": [],
   "source": [
    "from langchain_openai import OpenAIEmbeddings\n",
    "\n",
    "# details here: https://openai.com/blog/new-embedding-models-and-api-updates\n",
    "openai_embed_model = OpenAIEmbeddings(model='text-embedding-3-small')"
   ]
  },
  {
   "cell_type": "code",
   "execution_count": null,
   "metadata": {
    "id": "KPRVzeE6NwE7"
   },
   "outputs": [],
   "source": [
    "# The vectorstore we'll be using\n",
    "from langchain_chroma import Chroma\n",
    "\n",
    "# The embedding engine that will convert our text to vectors\n",
    "from langchain.text_splitter import RecursiveCharacterTextSplitter"
   ]
  },
  {
   "cell_type": "code",
   "execution_count": null,
   "metadata": {
    "id": "Xt-9DpXxXscN"
   },
   "outputs": [],
   "source": [
    "from langchain.docstore.document import Document\n",
    "\n",
    "docs = [Document(page_content=doc) for doc in passages]"
   ]
  },
  {
   "cell_type": "code",
   "execution_count": null,
   "metadata": {
    "colab": {
     "base_uri": "https://localhost:8080/"
    },
    "id": "N3jwYefVL78q",
    "outputId": "5cc3eac1-3767-44de-8c59-4649d848063d"
   },
   "outputs": [
    {
     "data": {
      "text/plain": [
       "[Document(page_content='Basil (\"Ocimum basilicum\") ( or ) is a plant of the Family Lamiaceae. It is also known as Sweet Basil or Tulsi. It is a tender low-growing herb that is grown as a perennial in warm, tropical climates. Basil is originally native to India and other tropical regions of Asia. It has been cultivated there for more than 5,000 years. It is prominently featured in many cuisines throughout the world. Some of them are Italian, Thai, Vietnamese and Laotian cuisines. It grows to between 30–60\\xa0cm tall. It has light green, silky leaves 3–5\\xa0cm long and 1–3\\xa0cm broad. The leaves are opposite each other. The flowers are quite big. They are white in color and arranged as a spike.'),\n",
       " Document(page_content='The Roerich Pact is a treaty on Protection of Artistic and Scientific Institutions and Historic Monuments, signed by the representatives of 21 states in the Oval Office of the White House on 15 April 1935. As of January 1, 1990, the Roerich Pact had been ratified by ten nations: Brazil, Chile, Colombia, Cuba, the Dominican Republic, El Salvador, Guatemala, Mexico, the United States, and Venezuela. It went into effect on 26 August 1935. The Government of India approved the Treaty in 1948, but did not take any further formal action. The Roerich Pact is also known as \"Pax Cultura\" (\"Cultural Peace\" or \"Peace through Culture\"). The most important part of the Roerich Pact is the legal recognition that the protection of culture is always more important than any military necessity.'),\n",
       " Document(page_content=\"The Indian Air Force is the air arm of the Indian Military. The Royal Indian Air Force was founded on 1 April 1932 as part of the armed forces of the British Empire. In 1950, after independence, India dropped the word 'Royal' from the name.\")]"
      ]
     },
     "execution_count": 16,
     "metadata": {},
     "output_type": "execute_result"
    }
   ],
   "source": [
    "docs[:3]"
   ]
  },
  {
   "cell_type": "code",
   "execution_count": null,
   "metadata": {
    "id": "P_9jsBAJWMk5"
   },
   "outputs": [],
   "source": [
    "splitter = RecursiveCharacterTextSplitter(chunk_size=1000, chunk_overlap=300)\n",
    "chunked_docs = splitter.split_documents(docs)"
   ]
  },
  {
   "cell_type": "code",
   "execution_count": null,
   "metadata": {
    "colab": {
     "base_uri": "https://localhost:8080/"
    },
    "id": "0_HFUmBIPKmY",
    "outputId": "05922c50-fcf4-4025-be5c-d78cfd2c0433"
   },
   "outputs": [
    {
     "data": {
      "text/plain": [
       "Document(page_content='Amb was a princely state of the former British Raj. It governed itself (it had autonomy), but was under the overall suzerainty of the British monarch. Amb was ruled by a hereditary prince with the title of Nawab. The Nawab of Amb was the chieftain of the Tanoli tribe of Pashtun from Ghilji confederation in the Hazara. In the Partition of India in 1947, the Nawab of Tanolis/TanoKhel gave up the independence the state had previously enjoyed by joining the new country of Pakistan. Amb continued as a distinct state within Pakistan until 1969, when it was merged into the former North-West Frontier Province. The royal status of the Nawab was abolished by the Government of Pakistan in 1972.')"
      ]
     },
     "execution_count": 25,
     "metadata": {},
     "output_type": "execute_result"
    }
   ],
   "source": [
    "chunked_docs[5]"
   ]
  },
  {
   "cell_type": "code",
   "execution_count": null,
   "metadata": {
    "colab": {
     "base_uri": "https://localhost:8080/"
    },
    "id": "5Tu4rqnWYLFI",
    "outputId": "de76a5f2-7e15-4221-9e7b-807e9fa1c53d"
   },
   "outputs": [
    {
     "data": {
      "text/plain": [
       "[Document(page_content='Basil (\"Ocimum basilicum\") ( or ) is a plant of the Family Lamiaceae. It is also known as Sweet Basil or Tulsi. It is a tender low-growing herb that is grown as a perennial in warm, tropical climates. Basil is originally native to India and other tropical regions of Asia. It has been cultivated there for more than 5,000 years. It is prominently featured in many cuisines throughout the world. Some of them are Italian, Thai, Vietnamese and Laotian cuisines. It grows to between 30–60\\xa0cm tall. It has light green, silky leaves 3–5\\xa0cm long and 1–3\\xa0cm broad. The leaves are opposite each other. The flowers are quite big. They are white in color and arranged as a spike.'),\n",
       " Document(page_content='The Roerich Pact is a treaty on Protection of Artistic and Scientific Institutions and Historic Monuments, signed by the representatives of 21 states in the Oval Office of the White House on 15 April 1935. As of January 1, 1990, the Roerich Pact had been ratified by ten nations: Brazil, Chile, Colombia, Cuba, the Dominican Republic, El Salvador, Guatemala, Mexico, the United States, and Venezuela. It went into effect on 26 August 1935. The Government of India approved the Treaty in 1948, but did not take any further formal action. The Roerich Pact is also known as \"Pax Cultura\" (\"Cultural Peace\" or \"Peace through Culture\"). The most important part of the Roerich Pact is the legal recognition that the protection of culture is always more important than any military necessity.'),\n",
       " Document(page_content=\"The Indian Air Force is the air arm of the Indian Military. The Royal Indian Air Force was founded on 1 April 1932 as part of the armed forces of the British Empire. In 1950, after independence, India dropped the word 'Royal' from the name.\")]"
      ]
     },
     "execution_count": 26,
     "metadata": {},
     "output_type": "execute_result"
    }
   ],
   "source": [
    "chunked_docs[:3]"
   ]
  },
  {
   "cell_type": "markdown",
   "metadata": {
    "id": "6RXepcnd1E7b"
   },
   "source": [
    "## Create Vector DB and Retriever\n"
   ]
  },
  {
   "cell_type": "code",
   "execution_count": null,
   "metadata": {
    "id": "_st2XDc3N2Kf"
   },
   "outputs": [],
   "source": [
    "# create vector DB of docs and embeddings - takes 1 min on Colab\n",
    "chroma_db = Chroma.from_documents(documents=chunked_docs, collection_name='wiki_db',\n",
    "                                  embedding=openai_embed_model,\n",
    "                                  # need to set the distance function to cosine else it uses euclidean by default\n",
    "                                  # check https://docs.trychroma.com/guides#changing-the-distance-function\n",
    "                                  collection_metadata={\"hnsw:space\": \"cosine\"},\n",
    "                                  persist_directory=\"./wiki_db\") # Defines the local directory where the vector database will be stored.\n",
    "\n",
    "\n",
    "#HNSW (Hierarchical Navigable Small World)\n",
    "#HNSW is an efficient nearest-neighbor search algorithm used in ChromaDB."
   ]
  },
  {
   "cell_type": "markdown",
   "metadata": {
    "id": "9ju_zBIj1Zsb"
   },
   "source": [
    "## Load Vector DB from disk\n",
    "\n",
    "Run the following code if your vector DB already exists on disk from the previous hands-on session"
   ]
  },
  {
   "cell_type": "code",
   "execution_count": null,
   "metadata": {
    "id": "pNvj0dDH1WDg"
   },
   "outputs": [],
   "source": [
    "# load from disk\n",
    "chroma_db = Chroma(persist_directory=\"./wiki_db\",\n",
    "                   collection_name='wiki_db',\n",
    "                   embedding_function=openai_embed_model)"
   ]
  },
  {
   "cell_type": "code",
   "execution_count": null,
   "metadata": {
    "id": "pTmvHpCRlXOO"
   },
   "outputs": [],
   "source": [
    "similarity_retriever = chroma_db.as_retriever(search_type=\"similarity_score_threshold\",\n",
    "                                              search_kwargs={\"k\": 5, \"score_threshold\": 0.2})"
   ]
  },
  {
   "cell_type": "code",
   "execution_count": null,
   "metadata": {
    "colab": {
     "base_uri": "https://localhost:8080/"
    },
    "id": "FXzDAhu9YHY7",
    "outputId": "cb3cce76-9627-4621-d943-7d921fbe664b"
   },
   "outputs": [
    {
     "data": {
      "text/plain": [
       "[Document(page_content='New Delhi () is the capital of India and a union territory of the megacity of Delhi. It has a very old history and is home to several monuments where the city is expensive to live in. In traditional Indian geography it falls under the North Indian zone. The city has an area of about 42.7\\xa0km. New Delhi has a population of about 9.4 Million people.'),\n",
       " Document(page_content='New Delhi () is the capital of India and a union territory of the megacity of Delhi. It has a very old history and is home to several monuments where the city is expensive to live in. In traditional Indian geography it falls under the North Indian zone. The city has an area of about 42.7\\xa0km. New Delhi has a population of about 9.4 Million people.'),\n",
       " Document(page_content='The Republic of India is divided into twenty-eight States,and eight union territories including the National Capital Territory.'),\n",
       " Document(page_content='The Republic of India is divided into twenty-eight States,and eight union territories including the National Capital Territory.'),\n",
       " Document(page_content=\"Kolkata (spelled Calcutta before 1 January 2001) is the capital city of the Indian state of West Bengal. It is the second largest city in India after Mumbai. It is on the east bank of the River Hooghly. When it is called Calcutta, it includes the suburbs. This makes it the third largest city of India. This also makes it the world's 8th largest metropolitan area as defined by the United Nations. Kolkata served as the capital of India during the British Raj until 1911. Kolkata was once the center of industry and education. However, it has witnessed political violence and economic problems since 1954. Since 2000, Kolkata has grown due to economic growth. Like other metropolitan cities in India, Kolkata struggles with poverty, pollution and traffic congestion.\")]"
      ]
     },
     "execution_count": 31,
     "metadata": {},
     "output_type": "execute_result"
    }
   ],
   "source": [
    "similarity_retriever.invoke('what is the capital of India?')"
   ]
  },
  {
   "cell_type": "markdown",
   "metadata": {
    "id": "Bfn4Z4Em55bb"
   },
   "source": [
    "### Build a QA RAG Chain"
   ]
  },
  {
   "cell_type": "code",
   "execution_count": null,
   "metadata": {
    "id": "vHAf9pJhjiMa"
   },
   "outputs": [],
   "source": [
    "from langchain import hub"
   ]
  },
  {
   "cell_type": "code",
   "execution_count": null,
   "metadata": {
    "colab": {
     "base_uri": "https://localhost:8080/"
    },
    "id": "tNKFORDLji7f",
    "outputId": "45bc76b2-a44a-4b41-c2b0-e8364ffc3161"
   },
   "outputs": [
    {
     "data": {
      "text/plain": [
       "ChatPromptTemplate(input_variables=['context', 'question'], metadata={'lc_hub_owner': 'rlm', 'lc_hub_repo': 'rag-prompt', 'lc_hub_commit_hash': '50442af133e61576e74536c6556cefe1fac147cad032f4377b60c436e6cdcb6e'}, messages=[HumanMessagePromptTemplate(prompt=PromptTemplate(input_variables=['context', 'question'], template=\"You are an assistant for question-answering tasks. Use the following pieces of retrieved context to answer the question. If you don't know the answer, just say that you don't know. Use three sentences maximum and keep the answer concise.\\nQuestion: {question} \\nContext: {context} \\nAnswer:\"))])"
      ]
     },
     "execution_count": 44,
     "metadata": {},
     "output_type": "execute_result"
    }
   ],
   "source": [
    "prompt = hub.pull(\"rlm/rag-prompt\")\n",
    "prompt"
   ]
  },
  {
   "cell_type": "code",
   "execution_count": null,
   "metadata": {
    "id": "8Pu5U9HNkl-q"
   },
   "outputs": [],
   "source": [
    "from langchain_core.prompts import ChatPromptTemplate\n",
    "\n",
    "prompt = \"\"\"You are an assistant for question-answering tasks.\n",
    "            Use the following pieces of retrieved context to answer the question.\n",
    "            If you don't know the answer, just say that you don't know.\n",
    "            Keep the answer upto 5 lines unless the user asks for more information\n",
    "\n",
    "            Question:\n",
    "            {question}\n",
    "\n",
    "            Context:\n",
    "            {context}\n",
    "\n",
    "            Answer:\n",
    "         \"\"\"\n",
    "\n",
    "prompt_template = ChatPromptTemplate.from_template(prompt)"
   ]
  },
  {
   "cell_type": "markdown",
   "metadata": {
    "id": "Ng4cKPYfmRyg"
   },
   "source": [
    "## New LangChain Syntax for RAG Chain - Using LCEL"
   ]
  },
  {
   "cell_type": "code",
   "execution_count": null,
   "metadata": {
    "id": "18p2bJahmLX_"
   },
   "outputs": [],
   "source": [
    "from langchain_core.runnables import RunnablePassthrough\n",
    "\n",
    "def format_docs(docs):\n",
    "    return \"\\n\\n\".join(doc.page_content for doc in docs)\n",
    "\n",
    "qa_rag_chain = (\n",
    "    {\n",
    "        \"context\": (similarity_retriever\n",
    "                      |\n",
    "                    format_docs),\n",
    "        \"question\": RunnablePassthrough()\n",
    "    }\n",
    "      |\n",
    "    prompt_template\n",
    "      |\n",
    "    chatgpt\n",
    ")"
   ]
  },
  {
   "cell_type": "code",
   "execution_count": null,
   "metadata": {
    "colab": {
     "base_uri": "https://localhost:8080/"
    },
    "id": "njFlSt9Smznk",
    "outputId": "2731ce5f-7c2a-4041-da9f-f2c909cf61b2"
   },
   "outputs": [
    {
     "name": "stdout",
     "output_type": "stream",
     "text": [
      "The capital of India is New Delhi.\n"
     ]
    }
   ],
   "source": [
    "query = \"What is the capital of India?\"\n",
    "result = qa_rag_chain.invoke(query)\n",
    "print(result.content)"
   ]
  },
  {
   "cell_type": "code",
   "execution_count": null,
   "metadata": {
    "colab": {
     "base_uri": "https://localhost:8080/"
    },
    "id": "-OfsGdmhnn6u",
    "outputId": "d1e700de-e48c-4b62-eda9-da37bf4dbdbd"
   },
   "outputs": [
    {
     "name": "stdout",
     "output_type": "stream",
     "text": [
      "The financial capital of India is Mumbai, which is home to the National Stock Exchange of India (NSE), the largest stock exchange in the country. Mumbai is a major financial hub, hosting numerous banks, financial institutions, and corporate headquarters. It plays a crucial role in the Indian economy and is known for its vibrant business environment.\n"
     ]
    }
   ],
   "source": [
    "query = \"Tell me about the financial capital of India\"\n",
    "result = qa_rag_chain.invoke(query)\n",
    "print(result.content)"
   ]
  },
  {
   "cell_type": "code",
   "execution_count": null,
   "metadata": {
    "colab": {
     "base_uri": "https://localhost:8080/"
    },
    "id": "PS5f9QKVn935",
    "outputId": "9fa5dbec-f4e1-44b7-ba12-a20a53a9a33f"
   },
   "outputs": [
    {
     "name": "stdout",
     "output_type": "stream",
     "text": [
      "I don't know.\n"
     ]
    }
   ],
   "source": [
    "query = \"Who was the winner of the champions league in 2020?\"\n",
    "result = qa_rag_chain.invoke(query)\n",
    "print(result.content)"
   ]
  },
  {
   "cell_type": "code",
   "execution_count": null,
   "metadata": {
    "colab": {
     "base_uri": "https://localhost:8080/"
    },
    "id": "h0KunWF9Fnaj",
    "outputId": "ebef2154-e29d-4f62-a9f7-60de4ffdfc87"
   },
   "outputs": [
    {
     "name": "stdout",
     "output_type": "stream",
     "text": [
      "The financial capital of India is Mumbai. It is home to the National Stock Exchange of India (NSE), which is the largest stock exchange in the country. Additionally, Mumbai hosts the headquarters of major financial institutions, including the State Bank of India (SBI).\n"
     ]
    }
   ],
   "source": [
    "query = \"What is the financial capital of India?\"\n",
    "result = qa_rag_chain.invoke(query)\n",
    "print(result.content)"
   ]
  },
  {
   "cell_type": "code",
   "execution_count": null,
   "metadata": {
    "colab": {
     "base_uri": "https://localhost:8080/"
    },
    "id": "VwnV1fvWPILC",
    "outputId": "de573066-db17-4e63-c278-d95afafd3040"
   },
   "outputs": [
    {
     "name": "stderr",
     "output_type": "stream",
     "text": [
      "/usr/local/lib/python3.10/dist-packages/langchain_core/vectorstores.py:342: UserWarning: No relevant docs were retrieved using the relevance score threshold 0.2\n",
      "  warnings.warn(\n"
     ]
    },
    {
     "name": "stdout",
     "output_type": "stream",
     "text": [
      "I don't know.\n"
     ]
    }
   ],
   "source": [
    "query = \"Tell me more about it in detail\"\n",
    "result = qa_rag_chain.invoke(query)\n",
    "print(result.content)"
   ]
  },
  {
   "cell_type": "markdown",
   "metadata": {
    "id": "QVemECCPfYg0"
   },
   "source": [
    "# Conversational RAG System with LangChain\n",
    "\n",
    "In many Q&A applications, the ability to engage in back-and-forth conversations with users is crucial. This necessitates the application having a form of \"memory\" to recall past interactions and apply this context to current queries.\n",
    "\n",
    "This guide focuses on integrating historical messages into the application's logic. Additional details on managing chat history can be found [here](https://python.langchain.com/docs/expression_language/how_to/message_history/).\n",
    "\n",
    "![](https://i.imgur.com/8hLJMPl.gif)\n",
    "\n",
    "### Building on the Q&A RAG System - to a Conversational Q&A RAG System\n",
    "\n",
    "We will enhance our Q&A RAG System, which utilizes the Wikipedia dataset, by implementing the following updates:\n",
    "\n",
    "- **Prompt Adjustment:** Our prompt will be modified to include historical messages as inputs, allowing the system to maintain context over the course of a conversation.\n",
    "\n",
    "- **Contextualizing Questions:** We will introduce a sub-chain mechanism to reformulate the latest user query by considering the chat history. This is crucial for understanding questions that refer back to previous messages. For example, a query like \"Can you elaborate on the second point?\" relies on the context provided by preceding interactions, which affects the system's ability to retrieve relevant information effectively.\n",
    "\n",
    "\n",
    "\n"
   ]
  },
  {
   "cell_type": "markdown",
   "metadata": {
    "id": "H0sMxGqEojYM"
   },
   "source": [
    "## Contextualizing the Question\n",
    "\n",
    "To maintain a seamless flow in conversations, especially in a Q&A setting, it's essential to incorporate historical interactions. Here’s how we achieve this:\n",
    "\n",
    "### Defining a Sub-Chain for Historical Context\n",
    "\n",
    "1. **Sub-Chain Creation:** We'll define a sub-chain that uses both historical messages and the latest user query. This sub-chain reformulates the question if it refers to any past interactions, ensuring the system, especially the vector database understands the context to return the most relevant documents to this newly reworded question.\n",
    "\n",
    "2. **Using `MessagesPlaceholder`:** Our prompt construction involves a `MessagesPlaceholder` variable named `chat_history`. This setup allows us to input a list of messages using the `chat_history` key. The system integrates these messages, positioning them after its own responses and before the latest user question.\n",
    "\n",
    "3. **Helper Function Usage:** We employ the `create_history_aware_retriever` function available [here](https://api.python.langchain.com/en/latest/chains/langchain.chains.history_aware_retriever.create_history_aware_retriever.html). This function is crucial for handling instances where the chat history might be empty and orchestrates the sequence of operations: `prompt | llm | StrOutputParser() | retriever`.\n",
    "\n",
    "4. **Chain Construction:** The `create_history_aware_retriever` constructs a chain that processes inputs under the keys `input` and `chat_history`, ensuring the output schema aligns with that of a retriever.\n",
    "\n",
    "By implementing these steps, our system can effectively utilize historical context to better understand and respond to user queries, thereby enhancing the conversational experience.\n"
   ]
  },
  {
   "cell_type": "code",
   "execution_count": null,
   "metadata": {
    "colab": {
     "base_uri": "https://localhost:8080/"
    },
    "id": "qBXdc-uz4WSm",
    "outputId": "beb0f898-e5da-4533-a948-eeb7d67a956a"
   },
   "outputs": [
    {
     "data": {
      "text/plain": [
       "PromptTemplate(input_variables=['chat_history', 'input'], metadata={'lc_hub_owner': 'langchain-ai', 'lc_hub_repo': 'chat-langchain-rephrase', 'lc_hub_commit_hash': 'fb7ddb56be11b2ab10d176174dae36faa2a9a6ba13187c8b2b98315f6ca7d136'}, template='Given the following conversation and a follow up question, rephrase the follow up question to be a standalone question.\\n\\nChat History:\\n{chat_history}\\nFollow Up Input: {input}\\nStandalone Question:')"
      ]
     },
     "execution_count": 31,
     "metadata": {},
     "output_type": "execute_result"
    }
   ],
   "source": [
    "rephrase_prompt = hub.pull(\"langchain-ai/chat-langchain-rephrase\")\n",
    "rephrase_prompt"
   ]
  },
  {
   "cell_type": "code",
   "execution_count": null,
   "metadata": {
    "colab": {
     "base_uri": "https://localhost:8080/"
    },
    "id": "CG_6njQiGvjd",
    "outputId": "e02c887d-63be-4877-e1b2-4604ceff5c7f"
   },
   "outputs": [
    {
     "name": "stdout",
     "output_type": "stream",
     "text": [
      "Given the following conversation and a follow up question, rephrase the follow up question to be a standalone question.\n",
      "\n",
      "Chat History:\n",
      "{chat_history}\n",
      "Follow Up Input: {input}\n",
      "Standalone Question:\n"
     ]
    }
   ],
   "source": [
    "print(rephrase_prompt.template)"
   ]
  },
  {
   "cell_type": "code",
   "execution_count": null,
   "metadata": {
    "colab": {
     "base_uri": "https://localhost:8080/"
    },
    "id": "1Drh0P1d2s0m",
    "outputId": "90ef7f4b-d1ed-4f1a-ef83-987eea759be7"
   },
   "outputs": [
    {
     "data": {
      "text/plain": [
       "RunnableBinding(bound=RunnableBranch(branches=[(RunnableLambda(lambda x: not x.get('chat_history', False)), RunnableLambda(lambda x: x['input'])\n",
       "| VectorStoreRetriever(tags=['Chroma', 'OpenAIEmbeddings'], vectorstore=<langchain_chroma.vectorstores.Chroma object at 0x7b6d1d1ce920>, search_type='similarity_score_threshold', search_kwargs={'k': 5, 'score_threshold': 0.2}))], default=ChatPromptTemplate(input_variables=['chat_history', 'input'], input_types={'chat_history': typing.List[typing.Union[langchain_core.messages.ai.AIMessage, langchain_core.messages.human.HumanMessage, langchain_core.messages.chat.ChatMessage, langchain_core.messages.system.SystemMessage, langchain_core.messages.function.FunctionMessage, langchain_core.messages.tool.ToolMessage]]}, messages=[SystemMessagePromptTemplate(prompt=PromptTemplate(input_variables=[], template='Given a chat history and the latest user question\\nwhich might reference context in the chat history, formulate a standalone question\\nwhich can be understood without the chat history. Do NOT answer the question,\\njust reformulate it if needed and otherwise return it as is.')), MessagesPlaceholder(variable_name='chat_history'), HumanMessagePromptTemplate(prompt=PromptTemplate(input_variables=['input'], template='{input}'))])\n",
       "| ChatOpenAI(client=<openai.resources.chat.completions.Completions object at 0x7b6d1cb169e0>, async_client=<openai.resources.chat.completions.AsyncCompletions object at 0x7b6d1cb50340>, model_name='gpt-4o-mini', temperature=0.0, openai_api_key=SecretStr('**********'), openai_proxy='')\n",
       "| StrOutputParser()\n",
       "| VectorStoreRetriever(tags=['Chroma', 'OpenAIEmbeddings'], vectorstore=<langchain_chroma.vectorstores.Chroma object at 0x7b6d1d1ce920>, search_type='similarity_score_threshold', search_kwargs={'k': 5, 'score_threshold': 0.2})), config={'run_name': 'chat_retriever_chain'})"
      ]
     },
     "execution_count": 33,
     "metadata": {},
     "output_type": "execute_result"
    }
   ],
   "source": [
    "from langchain.chains import create_history_aware_retriever\n",
    "from langchain_core.prompts import ChatPromptTemplate, MessagesPlaceholder\n",
    "\n",
    "rephrase_system_prompt = \"\"\"Given a chat history and the latest user question\n",
    "which might reference context in the chat history, formulate a standalone question\n",
    "which can be understood without the chat history. Do NOT answer the question,\n",
    "just reformulate it if needed and otherwise return it as is.\"\"\"\n",
    "\n",
    "rephrase_prompt = ChatPromptTemplate.from_messages(\n",
    "    [\n",
    "        (\"system\", rephrase_system_prompt),\n",
    "        MessagesPlaceholder(\"chat_history\"),\n",
    "        (\"human\", \"{input}\"),\n",
    "    ]\n",
    ")\n",
    "\n",
    "history_aware_retriever = create_history_aware_retriever(\n",
    "    chatgpt, similarity_retriever, rephrase_prompt\n",
    ")\n",
    "\n",
    "history_aware_retriever"
   ]
  },
  {
   "cell_type": "markdown",
   "metadata": {
    "id": "QN2SIBOs29Si"
   },
   "source": [
    "This chain prepends a rephrasing of the input query to our retriever, so that the retrieval incorporates the context of the conversation."
   ]
  },
  {
   "cell_type": "markdown",
   "metadata": {
    "id": "67lm91Yl5eJg"
   },
   "source": [
    "## Building the QA RAG Chain with Chat History\n",
    "\n",
    "Now we're ready to construct our comprehensive QA RAG chain, which leverages historical context for more accurate and relevant responses.\n",
    "\n",
    "### Components of the QA RAG Chain\n",
    "\n",
    "1. **Creating Document Chains:**\n",
    "   - We use the `create_stuff_documents_chain` function, which is detailed [here](https://api.python.langchain.com/en/latest/chains/langchain.chains.combine_documents.stuff.create_stuff_documents_chain.html). This function is used to create a `question_answer_chain`, accepting inputs such as `context`, `chat_history`, and `input`. It efficiently combines the retrieved context with the conversation history and the current query to generate an informed answer.\n",
    "\n",
    "2. **Building the Final QA RAG Chain:**\n",
    "   - The entire QA RAG chain is assembled using the `create_retrieval_chain` function, available [here](https://api.python.langchain.com/en/latest/chains/langchain.chains.retrieval.create_retrieval_chain.html). This chain integrates the `history_aware_retriever` with the `question_answer_chain`. It retains intermediate outputs like the retrieved context for added convenience during the query handling process.\n",
    "   - The `create_retrieval_chain` function accepts keys such as `input` and `chat_history` and includes `input`, `chat_history`, `context`, and `answer` in its outputs.\n",
    "\n",
    "By implementing these steps, the system not only contextualizes but also provides accurate answers by synthesizing information from both the current and historical interactions. This method enhances the conversational AI’s ability to understand and respond to user queries dynamically, making the interactions more engaging and relevant.\n"
   ]
  },
  {
   "cell_type": "code",
   "execution_count": null,
   "metadata": {
    "colab": {
     "base_uri": "https://localhost:8080/"
    },
    "id": "f8v6WgeG5KQa",
    "outputId": "0a3248e3-be81-4c76-a4b8-f00de1544d20"
   },
   "outputs": [
    {
     "data": {
      "text/plain": [
       "RunnableBinding(bound=RunnableAssign(mapper={\n",
       "  context: RunnableBinding(bound=RunnableBranch(branches=[(RunnableLambda(lambda x: not x.get('chat_history', False)), RunnableLambda(lambda x: x['input'])\n",
       "           | VectorStoreRetriever(tags=['Chroma', 'OpenAIEmbeddings'], vectorstore=<langchain_chroma.vectorstores.Chroma object at 0x7b6d1d1ce920>, search_type='similarity_score_threshold', search_kwargs={'k': 5, 'score_threshold': 0.2}))], default=ChatPromptTemplate(input_variables=['chat_history', 'input'], input_types={'chat_history': typing.List[typing.Union[langchain_core.messages.ai.AIMessage, langchain_core.messages.human.HumanMessage, langchain_core.messages.chat.ChatMessage, langchain_core.messages.system.SystemMessage, langchain_core.messages.function.FunctionMessage, langchain_core.messages.tool.ToolMessage]]}, messages=[SystemMessagePromptTemplate(prompt=PromptTemplate(input_variables=[], template='Given a chat history and the latest user question\\nwhich might reference context in the chat history, formulate a standalone question\\nwhich can be understood without the chat history. Do NOT answer the question,\\njust reformulate it if needed and otherwise return it as is.')), MessagesPlaceholder(variable_name='chat_history'), HumanMessagePromptTemplate(prompt=PromptTemplate(input_variables=['input'], template='{input}'))])\n",
       "           | ChatOpenAI(client=<openai.resources.chat.completions.Completions object at 0x7b6d1cb169e0>, async_client=<openai.resources.chat.completions.AsyncCompletions object at 0x7b6d1cb50340>, model_name='gpt-4o-mini', temperature=0.0, openai_api_key=SecretStr('**********'), openai_proxy='')\n",
       "           | StrOutputParser()\n",
       "           | VectorStoreRetriever(tags=['Chroma', 'OpenAIEmbeddings'], vectorstore=<langchain_chroma.vectorstores.Chroma object at 0x7b6d1d1ce920>, search_type='similarity_score_threshold', search_kwargs={'k': 5, 'score_threshold': 0.2})), config={'run_name': 'retrieve_documents'})\n",
       "})\n",
       "| RunnableAssign(mapper={\n",
       "    answer: RunnableBinding(bound=RunnableBinding(bound=RunnableAssign(mapper={\n",
       "              context: RunnableLambda(format_docs)\n",
       "            }), config={'run_name': 'format_inputs'})\n",
       "            | ChatPromptTemplate(input_variables=['chat_history', 'context', 'input'], input_types={'chat_history': typing.List[typing.Union[langchain_core.messages.ai.AIMessage, langchain_core.messages.human.HumanMessage, langchain_core.messages.chat.ChatMessage, langchain_core.messages.system.SystemMessage, langchain_core.messages.function.FunctionMessage, langchain_core.messages.tool.ToolMessage]]}, messages=[SystemMessagePromptTemplate(prompt=PromptTemplate(input_variables=['context'], template=\"You are an assistant for question-answering tasks.\\n                      Use the following pieces of retrieved context to answer the question.\\n                      If you don't know the answer, just say that you don't know.\\n                      Keep the answer upto 5 lines unless the user asks for more information\\n\\n                      Context:\\n                      {context}\\n                  \")), MessagesPlaceholder(variable_name='chat_history'), HumanMessagePromptTemplate(prompt=PromptTemplate(input_variables=['input'], template='{input}'))])\n",
       "            | ChatOpenAI(client=<openai.resources.chat.completions.Completions object at 0x7b6d1cb169e0>, async_client=<openai.resources.chat.completions.AsyncCompletions object at 0x7b6d1cb50340>, model_name='gpt-4o-mini', temperature=0.0, openai_api_key=SecretStr('**********'), openai_proxy='')\n",
       "            | StrOutputParser(), config={'run_name': 'stuff_documents_chain'})\n",
       "  }), config={'run_name': 'retrieval_chain'})"
      ]
     },
     "execution_count": 34,
     "metadata": {},
     "output_type": "execute_result"
    }
   ],
   "source": [
    "from langchain.chains import create_retrieval_chain\n",
    "from langchain.chains.combine_documents import create_stuff_documents_chain\n",
    "\n",
    "qa_system_prompt = \"\"\"You are an assistant for question-answering tasks.\n",
    "                      Use the following pieces of retrieved context to answer the question.\n",
    "                      If you don't know the answer, just say that you don't know.\n",
    "                      Keep the answer upto 5 lines unless the user asks for more information\n",
    "\n",
    "                      Context:\n",
    "                      {context}\n",
    "                  \"\"\"\n",
    "\n",
    "qa_prompt = ChatPromptTemplate.from_messages(\n",
    "    [\n",
    "        (\"system\", qa_system_prompt),\n",
    "        MessagesPlaceholder(\"chat_history\"),\n",
    "        (\"human\", \"{input}\"),\n",
    "    ]\n",
    ")\n",
    "\n",
    "question_answer_chain = create_stuff_documents_chain(chatgpt, qa_prompt)\n",
    "\n",
    "qa_rag_chain = create_retrieval_chain(history_aware_retriever, question_answer_chain)\n",
    "qa_rag_chain"
   ]
  },
  {
   "cell_type": "code",
   "execution_count": null,
   "metadata": {
    "colab": {
     "base_uri": "https://localhost:8080/"
    },
    "id": "mPguXvkG7b6c",
    "outputId": "e393517a-d0a8-4b9c-9f21-bcb559b13758"
   },
   "outputs": [
    {
     "name": "stdout",
     "output_type": "stream",
     "text": [
      "The capital of India is New Delhi.\n"
     ]
    }
   ],
   "source": [
    "chat_history = []\n",
    "\n",
    "question = \"What is the capital of India?\"\n",
    "response = qa_rag_chain.invoke({\"input\": question, \"chat_history\": chat_history})\n",
    "print(response['answer'])"
   ]
  },
  {
   "cell_type": "code",
   "execution_count": null,
   "metadata": {
    "colab": {
     "base_uri": "https://localhost:8080/"
    },
    "id": "3Osi23E2zEDa",
    "outputId": "6636c071-fee9-48cb-9cb9-131ba5826994"
   },
   "outputs": [
    {
     "name": "stdout",
     "output_type": "stream",
     "text": [
      "{'input': 'What is the capital of India?', 'chat_history': []}\n",
      "{'context': [Document(page_content='New Delhi () is the capital of India and a union territory of the megacity of Delhi. It has a very old history and is home to several monuments where the city is expensive to live in. In traditional Indian geography it falls under the North Indian zone. The city has an area of about 42.7\\xa0km. New Delhi has a population of about 9.4 Million people.'), Document(page_content='The Republic of India is divided into twenty-eight States,and eight union territories including the National Capital Territory.'), Document(page_content=\"Kolkata (spelled Calcutta before 1 January 2001) is the capital city of the Indian state of West Bengal. It is the second largest city in India after Mumbai. It is on the east bank of the River Hooghly. When it is called Calcutta, it includes the suburbs. This makes it the third largest city of India. This also makes it the world's 8th largest metropolitan area as defined by the United Nations. Kolkata served as the capital of India during the British Raj until 1911. Kolkata was once the center of industry and education. However, it has witnessed political violence and economic problems since 1954. Since 2000, Kolkata has grown due to economic growth. Like other metropolitan cities in India, Kolkata struggles with poverty, pollution and traffic congestion.\"), Document(page_content='Gandhinagar is the capital city of Gujarat state in India. It is 23\\xa0km from the city of Ahmedabad and 464\\xa0km from Mumbai. In the year 1960, the Bombay state of India was divided into two states - Maharashtra and Gujarat. Bombay (now called Mumbai) became the capital city of Maharashtra. For Gujarat, new capital was needed. Gandhinagar was then made the capital of Gujarat.'), Document(page_content='Chennai (formerly known as Madras) is the capital city of the Indian state of Tamil Nadu. It has a population of about 7 million people. Almost 10% of all of the people in the state live in Chennai. The city is the fourth largest city of India. It was founded in 1661 by the British East India Company. The city is on the Coromandel Coast of the Bay of Bengal.')]}\n",
      "{'answer': ''}\n",
      "{'answer': 'The'}\n",
      "{'answer': ' capital'}\n",
      "{'answer': ' of'}\n",
      "{'answer': ' India'}\n",
      "{'answer': ' is'}\n",
      "{'answer': ' New'}\n",
      "{'answer': ' Delhi'}\n",
      "{'answer': '.'}\n",
      "{'answer': ''}\n"
     ]
    }
   ],
   "source": [
    "for chunk in qa_rag_chain.stream({\"input\": question, \"chat_history\": chat_history}):\n",
    "  print(chunk)"
   ]
  },
  {
   "cell_type": "code",
   "execution_count": null,
   "metadata": {
    "colab": {
     "base_uri": "https://localhost:8080/"
    },
    "id": "nZxkLV4bJkOt",
    "outputId": "bda710db-6156-494e-8ca8-be9a9bec005d"
   },
   "outputs": [
    {
     "data": {
      "text/plain": [
       "[]"
      ]
     },
     "execution_count": 37,
     "metadata": {},
     "output_type": "execute_result"
    }
   ],
   "source": [
    "chat_history"
   ]
  },
  {
   "cell_type": "code",
   "execution_count": null,
   "metadata": {
    "colab": {
     "base_uri": "https://localhost:8080/"
    },
    "id": "v_fPkZ9P7rF4",
    "outputId": "7f873543-745f-4bfe-cc88-aeda2dc1eb7d"
   },
   "outputs": [
    {
     "data": {
      "text/plain": [
       "[HumanMessage(content='What is the capital of India?'),\n",
       " AIMessage(content='The capital of India is New Delhi.')]"
      ]
     },
     "execution_count": 38,
     "metadata": {},
     "output_type": "execute_result"
    }
   ],
   "source": [
    "from langchain_core.messages import HumanMessage, AIMessage\n",
    "\n",
    "chat_history.extend([HumanMessage(content=question),\n",
    "                     AIMessage(content=response[\"answer\"])])\n",
    "chat_history"
   ]
  },
  {
   "cell_type": "code",
   "execution_count": null,
   "metadata": {
    "colab": {
     "base_uri": "https://localhost:8080/"
    },
    "id": "nZRM06Y375LF",
    "outputId": "3fdf7056-8f67-4545-ea2f-633f529441f2"
   },
   "outputs": [
    {
     "name": "stdout",
     "output_type": "stream",
     "text": [
      "New Delhi is the capital of India and a union territory within the megacity of Delhi. It has a rich history and is home to several monuments. The city covers an area of about 42.7 km and has a population of approximately 9.4 million people. New Delhi is known for its high cost of living and falls under the North Indian geographical zone.\n"
     ]
    }
   ],
   "source": [
    "question = \"Tell me more about this city\"\n",
    "response = qa_rag_chain.invoke({\"input\": question, \"chat_history\": chat_history})\n",
    "print(response['answer'])"
   ]
  },
  {
   "cell_type": "code",
   "execution_count": null,
   "metadata": {
    "colab": {
     "base_uri": "https://localhost:8080/"
    },
    "id": "ozckE4Hr8yOj",
    "outputId": "a66492c5-3500-4d81-8f7f-916edb067e0b"
   },
   "outputs": [
    {
     "data": {
      "text/plain": [
       "[HumanMessage(content='What is the capital of India?'),\n",
       " AIMessage(content='The capital of India is New Delhi.'),\n",
       " HumanMessage(content='Tell me more about this city'),\n",
       " AIMessage(content='New Delhi is the capital of India and a union territory within the megacity of Delhi. It has a rich history and is home to several monuments. The city covers an area of about 42.7 km and has a population of approximately 9.4 million people. New Delhi is known for its high cost of living and falls under the North Indian geographical zone.')]"
      ]
     },
     "execution_count": 40,
     "metadata": {},
     "output_type": "execute_result"
    }
   ],
   "source": [
    "chat_history.extend([HumanMessage(content=question),\n",
    "                     AIMessage(content=response[\"answer\"])])\n",
    "chat_history"
   ]
  },
  {
   "cell_type": "code",
   "execution_count": null,
   "metadata": {
    "colab": {
     "base_uri": "https://localhost:8080/"
    },
    "id": "xQqNj73E8zVL",
    "outputId": "6184a4f8-d4e0-40b6-b405-7da0ef510bd7"
   },
   "outputs": [
    {
     "name": "stdout",
     "output_type": "stream",
     "text": [
      "Yes, some fish, like flying fish, can glide above the water's surface. They have winglike fins that allow them to glide for considerable distances to escape predators. However, they do not truly \"fly\" like birds; instead, they glide through the air after leaping out of the water.\n"
     ]
    }
   ],
   "source": [
    "question = \"Can fish really fly?\"\n",
    "response = qa_rag_chain.invoke({\"input\": question, \"chat_history\": chat_history})\n",
    "print(response['answer'])"
   ]
  },
  {
   "cell_type": "code",
   "execution_count": null,
   "metadata": {
    "colab": {
     "base_uri": "https://localhost:8080/"
    },
    "id": "op5Lb-9uJ5aI",
    "outputId": "5a083786-7592-4bc0-8f3d-eee8a502681e"
   },
   "outputs": [
    {
     "data": {
      "text/plain": [
       "{'input': 'Can fish really fly?',\n",
       " 'chat_history': [HumanMessage(content='What is the capital of India?'),\n",
       "  AIMessage(content='The capital of India is New Delhi.'),\n",
       "  HumanMessage(content='Tell me more about this city'),\n",
       "  AIMessage(content='New Delhi is the capital of India and a union territory within the megacity of Delhi. It has a rich history and is home to several monuments. The city covers an area of about 42.7 km and has a population of approximately 9.4 million people. New Delhi is known for its high cost of living and falls under the North Indian geographical zone.')],\n",
       " 'context': [Document(page_content='Flying fish are marine oceanic fishes of the family Exocoetidae. They are about 50 species, and they live worldwide in warm waters. They are noted for their ability to glide. They are all small, with a maximum length of about 45 cm (18 inches), and have winglike, rigid fins and an unevenly forked tail.'),\n",
       "  Document(page_content='The flying snake, or \"Chrysopelea\", is a mildly venomous snake found throughout India to the Indonesian archipelago. It can glide, in an arboreal habitat, going from tree to tree, most likely, much like the draco lizard. They\\'re better at \"flying\" than another species of animal similar to this - the flying squirrel.'),\n",
       "  Document(page_content='Bluefish is a kind of fish which occurs in the Atlantic Ocean, the Mediterranean, the Black Sea, the Indian Ocean and the Pacific. It is a pelagic fish, which means that it lives near the surface of the ocean. They can grow to a size of and reach a weight of . In the wild, they live to be about nine years old.'),\n",
       "  Document(page_content='Archerfish (or archer fish) are small fish. Some live in fresh water. Others live in salt water. They live from India to the Philippines, Australia, and Polynesia.'),\n",
       "  Document(page_content='The clown fish is a kind of fish. Clownfish habitat usually is a coral reefs. Clownfish live in the Indian Ocean and the Pacific Ocean, from north west Australia, the coast of South East Asia as far north as Japan. Often, they live in a symbiosis with other animals, for instance the sea anemone. They live in anemones which are like plants under the sea. Anemones eat fish by killing them with their tentacles which are poisonous. Scientists believe that clown fish are protected from the poison because they are coated in a type of mucus.')],\n",
       " 'answer': 'Yes, some fish, like flying fish, can glide above the water\\'s surface. They have winglike fins that allow them to glide for considerable distances to escape predators. However, they do not truly \"fly\" like birds; instead, they glide through the air after leaping out of the water.'}"
      ]
     },
     "execution_count": 47,
     "metadata": {},
     "output_type": "execute_result"
    }
   ],
   "source": [
    "response"
   ]
  },
  {
   "cell_type": "code",
   "execution_count": null,
   "metadata": {
    "id": "ra8o20RH88WQ"
   },
   "outputs": [],
   "source": [
    "chat_history.extend([HumanMessage(content=question),\n",
    "                     AIMessage(content=response[\"answer\"])])"
   ]
  },
  {
   "cell_type": "code",
   "execution_count": null,
   "metadata": {
    "colab": {
     "base_uri": "https://localhost:8080/"
    },
    "id": "WNkuQx7DezF5",
    "outputId": "aaae4bd4-00e9-4e66-c764-8b09750733fd"
   },
   "outputs": [
    {
     "data": {
      "text/plain": [
       "[HumanMessage(content='What is the capital of India?'),\n",
       " AIMessage(content='The capital of India is New Delhi.'),\n",
       " HumanMessage(content='Tell me more about this city'),\n",
       " AIMessage(content='New Delhi is the capital of India and a union territory within the megacity of Delhi. It has a rich history and is home to several monuments. The city covers an area of about 42.7 km and has a population of approximately 9.4 million people. New Delhi is known for its high cost of living and falls under the North Indian geographical zone.'),\n",
       " HumanMessage(content='Can fish really fly?'),\n",
       " AIMessage(content='Yes, some fish, like flying fish, can glide above the water\\'s surface. They have winglike fins that allow them to glide for considerable distances to escape predators. However, they do not truly \"fly\" like birds; instead, they glide through the air after leaping out of the water.')]"
      ]
     },
     "execution_count": 49,
     "metadata": {},
     "output_type": "execute_result"
    }
   ],
   "source": [
    "chat_history"
   ]
  },
  {
   "cell_type": "code",
   "execution_count": null,
   "metadata": {
    "colab": {
     "base_uri": "https://localhost:8080/"
    },
    "id": "84jh_iP5bEn5",
    "outputId": "3069c677-22f6-4a5d-fc56-53eb72255f93"
   },
   "outputs": [
    {
     "data": {
      "text/plain": [
       "[HumanMessage(content='Can fish really fly?'),\n",
       " AIMessage(content='Yes, some fish, like flying fish, can glide above the water\\'s surface. They have winglike fins that allow them to glide for considerable distances to escape predators. However, they do not truly \"fly\" like birds; instead, they glide through the air after leaping out of the water.')]"
      ]
     },
     "execution_count": 50,
     "metadata": {},
     "output_type": "execute_result"
    }
   ],
   "source": [
    "chat_history[-2:]"
   ]
  },
  {
   "cell_type": "code",
   "execution_count": null,
   "metadata": {
    "colab": {
     "base_uri": "https://localhost:8080/"
    },
    "id": "g5bN1VjaKT8n",
    "outputId": "d3ea1fca-3dd6-4ab7-d576-cbb8352121d4"
   },
   "outputs": [
    {
     "name": "stdout",
     "output_type": "stream",
     "text": [
      "The fastest land animal is the cheetah, which can run up to 112 kilometers per hour for short distances.\n"
     ]
    }
   ],
   "source": [
    "question = \"What is the fastest animal?\"\n",
    "response = qa_rag_chain.invoke({\"input\": question, \"chat_history\": chat_history})\n",
    "chat_history.extend([HumanMessage(content=question),\n",
    "                     AIMessage(content=response[\"answer\"])])\n",
    "print(response['answer'])"
   ]
  },
  {
   "cell_type": "code",
   "execution_count": null,
   "metadata": {
    "colab": {
     "base_uri": "https://localhost:8080/"
    },
    "id": "7s3Ii71fKa9U",
    "outputId": "1cada52f-821e-4fa9-a5e4-b0e872a54740"
   },
   "outputs": [
    {
     "name": "stdout",
     "output_type": "stream",
     "text": [
      "There are several subspecies of cheetah:\n",
      "\n",
      "1. **South African Cheetah (Acinonyx jubatus jubatus)**: The most abundant subspecies, native to Southern Africa, with over 6,000 individuals in the wild.\n",
      "\n",
      "2. **Asiatic Cheetah (Acinonyx jubatus venaticus)**: A critically endangered subspecies found in Asia, with a very small population remaining.\n",
      "\n",
      "These subspecies differ in their geographic distribution and population status.\n"
     ]
    }
   ],
   "source": [
    "question = \"Tell me about its different species\"\n",
    "response = qa_rag_chain.invoke({\"input\": question, \"chat_history\": chat_history})\n",
    "chat_history.extend([HumanMessage(content=question),\n",
    "                     AIMessage(content=response[\"answer\"])])\n",
    "print(response['answer'])"
   ]
  },
  {
   "cell_type": "markdown",
   "metadata": {
    "id": "6xX-XlFK9UFz"
   },
   "source": [
    "## Returning Sources in Q&A Applications\n",
    "\n",
    "An essential feature of Q&A applications is the transparency in showing the sources that contributed to the generated answers. This builds trust and allows users to further explore the original content.\n",
    "\n",
    "### Integration with LangChain’s `create_retrieval_chain`\n",
    "\n",
    "- **Source Propagation:** LangChain’s `create_retrieval_chain` function is designed to ensure that source documents retrieved during the question answering process are included in the final output. This is particularly useful for maintaining transparency and providing users with the ability to trace answers back to their origins.\n",
    "- **Key Implementation:** The retrieved source documents are propagated through to the output under the \"context\" key. This feature not only supports the credibility of the answers provided but also enhances user engagement by allowing users to verify and explore the sources themselves.\n",
    "\n",
    "By utilizing this built-in functionality, developers can easily implement a system where users are always informed about the origins of the information provided, thereby enhancing the overall reliability and user experience of the Q&A application.\n"
   ]
  },
  {
   "cell_type": "code",
   "execution_count": null,
   "metadata": {
    "id": "XXnvQpoXKzCE"
   },
   "outputs": [],
   "source": [
    "chat_history = []"
   ]
  },
  {
   "cell_type": "code",
   "execution_count": null,
   "metadata": {
    "colab": {
     "base_uri": "https://localhost:8080/"
    },
    "id": "d4NVMH2H9Aad",
    "outputId": "471b7f9d-3726-4b1f-ffd1-0c9558243e25"
   },
   "outputs": [
    {
     "name": "stdout",
     "output_type": "stream",
     "text": [
      "Answer: The fastest land animal is the cheetah, which can run up to 112 kilometers per hour for short distances.\n",
      "Sources:\n",
      "page_content='A cheetah (\"Acinonyx jubatus\") is a medium large cat which lives in Africa. It is the fastest land animal and can run up to 112 kilometers per hour for a short time. Most cheetahs live in the savannas of Africa. There are a few in Asia. Cheetahs are active during the day, and hunt in the early morning or late evening.'\n",
      "\n",
      "page_content='The Bengal tiger (\"Panthera tigris tigris\") is a tiger subspecies native to the Indian subcontinent. It lives in Bhutan, Nepal, Bangladesh and northern India. It is the National animal of both India and Bangladesh.'\n",
      "\n",
      "page_content='The South African Cheetah (\"Acinonyx jubatus jubatus\"), also known as Namibian Cheetah, is the nominate subspecies of cheetah native to Southern Africa. It is the most abundant subspecies estimated at more than 6,000 individuals in the wild. Since 1990 and onwards, the population was estimated at approximately 2,500 individuals in Namibia, until 2015, the cheetah population has been increased to more than 3,500 in the country.'\n",
      "\n",
      "page_content='The flying snake, or \"Chrysopelea\", is a mildly venomous snake found throughout India to the Indonesian archipelago. It can glide, in an arboreal habitat, going from tree to tree, most likely, much like the draco lizard. They\\'re better at \"flying\" than another species of animal similar to this - the flying squirrel.'\n",
      "\n",
      "page_content='The Indian elephant (\"Elephas maximus indicus\") is one of three subspecies of the Asian elephant. It comes from mainland Asia. Since 1986, Elephants \"maximus\" has been listed as endangered by IUCN. The population has declined by at least 50% over the last 60–75 years. The species is also threatened by habitat loss, degradation and herds being split apart into smaller groups. In India it is recognized as the National animal of the country.'\n",
      "\n"
     ]
    }
   ],
   "source": [
    "question = \"which is the fastest animal?\"\n",
    "response = qa_rag_chain.invoke({\"input\": question, \"chat_history\": chat_history})\n",
    "print('Answer:', response['answer'])\n",
    "print('Sources:')\n",
    "for document in response['context']:\n",
    "    print(document)\n",
    "    print()"
   ]
  },
  {
   "cell_type": "code",
   "execution_count": null,
   "metadata": {
    "id": "hBUt6ZL89soR"
   },
   "outputs": [],
   "source": [
    "chat_history.extend([HumanMessage(content=question),\n",
    "                     AIMessage(content=response[\"answer\"])])"
   ]
  },
  {
   "cell_type": "code",
   "execution_count": null,
   "metadata": {
    "colab": {
     "base_uri": "https://localhost:8080/"
    },
    "id": "WzDIkfMk9z86",
    "outputId": "0da75b00-4ad8-4cfe-fa20-c8b50e0b45c7"
   },
   "outputs": [
    {
     "name": "stdout",
     "output_type": "stream",
     "text": [
      "Answer: The cheetah (Acinonyx jubatus) is the fastest land animal, known for its incredible speed and agility. There are several subspecies of cheetah:\n",
      "\n",
      "1. **South African Cheetah (Acinonyx jubatus jubatus)**: The most abundant subspecies, native to Southern Africa, with an estimated population of over 6,000 individuals.\n",
      "\n",
      "2. **Asiatic Cheetah (Acinonyx jubatus venaticus)**: A critically endangered subspecies found in Asia, with a very small population remaining, primarily in Iran.\n",
      "\n",
      "Cheetahs are primarily found in the savannas of Africa and are active during the day, hunting in the early morning or late evening. They are known for their distinctive black tear stripes on their faces and their slender, aerodynamic bodies.\n",
      "Sources:\n",
      "page_content='A cheetah (\"Acinonyx jubatus\") is a medium large cat which lives in Africa. It is the fastest land animal and can run up to 112 kilometers per hour for a short time. Most cheetahs live in the savannas of Africa. There are a few in Asia. Cheetahs are active during the day, and hunt in the early morning or late evening.'\n",
      "\n",
      "page_content='The South African Cheetah (\"Acinonyx jubatus jubatus\"), also known as Namibian Cheetah, is the nominate subspecies of cheetah native to Southern Africa. It is the most abundant subspecies estimated at more than 6,000 individuals in the wild. Since 1990 and onwards, the population was estimated at approximately 2,500 individuals in Namibia, until 2015, the cheetah population has been increased to more than 3,500 in the country.'\n",
      "\n",
      "page_content='The Asiatic cheetah (\"Acinonyx jubatus venaticus\") is a critically endangered subspecies of the cheetah native to Asia.'\n",
      "\n",
      "page_content='The Cheetah is a fictional character, created by William Moulton Marston. She appears in DC Comics publications and related media, commonly as a major villain to the superhero Wonder Woman.'\n",
      "\n",
      "page_content='The Felinae is a subfamily of the Felidae. It includes small cats and a few medium-large cats, especially the cougar (\"Puma concolor\") and the cheetah (\"Acinonyx jubatus\").'\n",
      "\n"
     ]
    }
   ],
   "source": [
    "question = \"Tell me more, including different types of this animal and their details\"\n",
    "response = qa_rag_chain.invoke({\"input\": question, \"chat_history\": chat_history})\n",
    "print('Answer:', response['answer'])\n",
    "print('Sources:')\n",
    "for document in response['context']:\n",
    "    print(document)\n",
    "    print()"
   ]
  },
  {
   "cell_type": "markdown",
   "metadata": {
    "id": "yOFkt3K52SLt"
   },
   "source": [
    "# Multi-User Conversational RAG System with LangChain\n",
    "\n",
    "In many Q&A applications, the ability to engage in back-and-forth conversations with users is crucial. This necessitates the application having a form of \"memory\" to recall past interactions and apply this context to current queries.\n",
    "\n",
    "However in most real-world conversational systems, multiple users or user sessions will be accessing the system simultaneously.\n",
    "\n",
    "![](https://i.imgur.com/X4WivLu.gif)\n",
    "\n",
    "Here we will show how you can use `SQLChatMessageHistory` such that we can store separate conversation histories per user or session which is often the need for real-world chatbots which will be accessed by many users at the same time. Instead of in-memory we can store it in a SQL database which can be used to store a lot of conversations.\n",
    "\n",
    "We use a `get_session_history` function which is expected to take in a `session_id` and return a Message History object. Everything is stored in a SQL database. This `session_id` is used to distinguish between separate conversations, and should be passed in as part of the config when calling the new chain\n",
    "\n",
    "We also use a `memory_buffer_window` function to only use the top-K last historical conversations before sending it to the LLM, basically our own implementation of `ConversationBufferWindowMemory`\n",
    "\n",
    "\n"
   ]
  },
  {
   "cell_type": "code",
   "execution_count": null,
   "metadata": {
    "colab": {
     "base_uri": "https://localhost:8080/"
    },
    "id": "9OnEXZ113TEp",
    "outputId": "d18aa7ed-b9b0-4894-a2c1-e135da2440e0"
   },
   "outputs": [
    {
     "name": "stdout",
     "output_type": "stream",
     "text": [
      "rm: cannot remove 'memory.db': No such file or directory\n"
     ]
    }
   ],
   "source": [
    "# removes the memory database file - usually not needed\n",
    "# you can run this only when you want to remove all conversation histories\n",
    "!rm memory.db"
   ]
  },
  {
   "cell_type": "code",
   "execution_count": null,
   "metadata": {
    "id": "sleeltMX3WfG"
   },
   "outputs": [],
   "source": [
    "from langchain.chains import create_history_aware_retriever\n",
    "from langchain_core.prompts import ChatPromptTemplate, MessagesPlaceholder\n",
    "from langchain.chains import create_retrieval_chain\n",
    "from langchain.chains.combine_documents import create_stuff_documents_chain\n",
    "from langchain_community.chat_message_histories import SQLChatMessageHistory\n",
    "from langchain_core.runnables.history import RunnableWithMessageHistory\n",
    "from langchain_core.runnables import RunnablePassthrough\n",
    "from langchain_core.output_parsers import StrOutputParser\n",
    "from langchain_openai import ChatOpenAI\n",
    "\n",
    "chatgpt = ChatOpenAI(model_name=\"gpt-4o-mini\", temperature=0)\n",
    "\n",
    "######### REPHRASER ############\n",
    "rephrase_system_prompt = \"\"\"Given a chat history and the latest user question\n",
    "which might reference context in the chat history, formulate a standalone question\n",
    "which can be understood without the chat history. Do NOT answer the question,\n",
    "just reformulate it if needed and otherwise return it as is.\"\"\"\n",
    "\n",
    "rephrase_prompt = ChatPromptTemplate.from_messages(\n",
    "    [\n",
    "        (\"system\", rephrase_system_prompt),\n",
    "        MessagesPlaceholder(\"chat_history\"),\n",
    "        (\"human\", \"{input}\"),\n",
    "    ]\n",
    ")\n",
    "\n",
    "history_aware_retriever = create_history_aware_retriever(\n",
    "    chatgpt, similarity_retriever, rephrase_prompt\n",
    ")\n",
    "\n",
    "\n",
    "\n",
    "######### MULTI_USER RAG RESPONSE GENERATOR ############\n",
    "qa_system_prompt = \"\"\"You are an assistant for question-answering tasks.\n",
    "                      Use the following pieces of retrieved context to answer the question.\n",
    "                      If you don't know the answer, just say that you don't know.\n",
    "                      Keep the answer upto 5 lines unless the user asks for more information\n",
    "\n",
    "                      Context:\n",
    "                      {context}\n",
    "                  \"\"\"\n",
    "\n",
    "qa_prompt = ChatPromptTemplate.from_messages(\n",
    "    [\n",
    "        (\"system\", qa_system_prompt),\n",
    "        MessagesPlaceholder(\"chat_history\"),\n",
    "        (\"human\", \"{input}\"),\n",
    "    ]\n",
    ")\n",
    "\n",
    "# used to retrieve conversation history from database\n",
    "# based on a specific user or session ID\n",
    "def get_session_history_db(session_id, topk_conversations=2):\n",
    "    history = SQLChatMessageHistory(session_id, \"sqlite:///memory.db\")\n",
    "    #history.messages = history.messages[-2*topk_conversations:]\n",
    "    return history\n",
    "\n",
    "# subset historical conversations\n",
    "def memory_buffer_window(messages, topk_conversations=2): # each conversation has 2 messages - (human prompt, AI response)\n",
    "    return messages[-(topk_conversations*2):]\n",
    "\n",
    "# custom RAG chain which looks at last K conversational messages\n",
    "question_answer_chain = (\n",
    "    RunnablePassthrough.assign(chat_history=lambda x: memory_buffer_window(x[\"chat_history\"]))\n",
    "      |\n",
    "    qa_prompt\n",
    "      |\n",
    "    chatgpt\n",
    "      |\n",
    "    StrOutputParser()\n",
    ")\n",
    "qa_rag_chain = create_retrieval_chain(history_aware_retriever, question_answer_chain)\n",
    "\n",
    "\n",
    "############ CONVERSATIONAL RAG CHAIN ####################\n",
    "conversational_rag_chain = RunnableWithMessageHistory(\n",
    "    qa_rag_chain,\n",
    "    get_session_history_db,\n",
    "    input_messages_key=\"input\",\n",
    "    history_messages_key=\"chat_history\",\n",
    "    output_messages_key=\"answer\",\n",
    ")"
   ]
  },
  {
   "cell_type": "code",
   "execution_count": null,
   "metadata": {
    "id": "B8Tx0vy3-bGp"
   },
   "outputs": [],
   "source": [
    "from IPython.display import display, Markdown\n",
    "\n",
    "def conv_rag_chatbot(usersession_id, prompt):\n",
    "    response = conversational_rag_chain.invoke(\n",
    "                                {\"input\": prompt},\n",
    "                                config={\n",
    "                                    \"configurable\": {\"session_id\": usersession_id}\n",
    "                                }\n",
    "    )\n",
    "    print('Answer:')\n",
    "    display(Markdown(response['answer']))\n",
    "    print('Sources:')\n",
    "    for document in response['context']:\n",
    "        print(document)\n",
    "        print()\n",
    "\n",
    "    return response"
   ]
  },
  {
   "cell_type": "code",
   "execution_count": null,
   "metadata": {
    "colab": {
     "base_uri": "https://localhost:8080/",
     "height": 292
    },
    "id": "QaPLZp3T-7hb",
    "outputId": "25246f92-cecb-43b2-9aac-c5c1eefefead"
   },
   "outputs": [
    {
     "name": "stderr",
     "output_type": "stream",
     "text": [
      "WARNING:langchain_core.tracers.base:Parent run e2c0f7cc-5241-4549-bc78-2a844656e44e not found for run 1e8f0a60-3a9f-4cba-939f-e31dbc9ef465. Treating as a root run.\n"
     ]
    },
    {
     "name": "stdout",
     "output_type": "stream",
     "text": [
      "Answer:\n"
     ]
    },
    {
     "data": {
      "text/markdown": [
       "The capital of India is New Delhi."
      ],
      "text/plain": [
       "<IPython.core.display.Markdown object>"
      ]
     },
     "metadata": {},
     "output_type": "display_data"
    },
    {
     "name": "stdout",
     "output_type": "stream",
     "text": [
      "Sources:\n",
      "page_content='New Delhi () is the capital of India and a union territory of the megacity of Delhi. It has a very old history and is home to several monuments where the city is expensive to live in. In traditional Indian geography it falls under the North Indian zone. The city has an area of about 42.7\\xa0km. New Delhi has a population of about 9.4 Million people.'\n",
      "\n",
      "page_content=\"Kolkata (spelled Calcutta before 1 January 2001) is the capital city of the Indian state of West Bengal. It is the second largest city in India after Mumbai. It is on the east bank of the River Hooghly. When it is called Calcutta, it includes the suburbs. This makes it the third largest city of India. This also makes it the world's 8th largest metropolitan area as defined by the United Nations. Kolkata served as the capital of India during the British Raj until 1911. Kolkata was once the center of industry and education. However, it has witnessed political violence and economic problems since 1954. Since 2000, Kolkata has grown due to economic growth. Like other metropolitan cities in India, Kolkata struggles with poverty, pollution and traffic congestion.\"\n",
      "\n",
      "page_content='Rajpath (, meaning \"King\\'s Way\") is the national boulevard of India. It is in New Delhi, the capital of India. The boulevard starts at the home of the President of India and ends at the National Stadium.'\n",
      "\n",
      "page_content='Gandhinagar is the capital city of Gujarat state in India. It is 23\\xa0km from the city of Ahmedabad and 464\\xa0km from Mumbai. In the year 1960, the Bombay state of India was divided into two states - Maharashtra and Gujarat. Bombay (now called Mumbai) became the capital city of Maharashtra. For Gujarat, new capital was needed. Gandhinagar was then made the capital of Gujarat.'\n",
      "\n",
      "page_content='The Republic of India is divided into twenty-eight States,and eight union territories including the National Capital Territory.'\n",
      "\n"
     ]
    }
   ],
   "source": [
    "us_id = 'bond007'\n",
    "r = conv_rag_chatbot(us_id, 'What is the capital of India?')"
   ]
  },
  {
   "cell_type": "code",
   "execution_count": null,
   "metadata": {
    "colab": {
     "base_uri": "https://localhost:8080/",
     "height": 847
    },
    "id": "XNwp9jKH74M2",
    "outputId": "702bbb28-c967-4395-97db-528715e84f66"
   },
   "outputs": [
    {
     "name": "stderr",
     "output_type": "stream",
     "text": [
      "WARNING:langchain_core.tracers.base:Parent run be4e2000-08b0-4340-81b7-08e1cfa39ff9 not found for run 418a9e73-2c84-4d2f-9487-33b8df367c62. Treating as a root run.\n"
     ]
    },
    {
     "name": "stdout",
     "output_type": "stream",
     "text": [
      "Answer:\n"
     ]
    },
    {
     "data": {
      "text/markdown": [
       "New Delhi is the capital of India and a union territory within the megacity of Delhi. It has a rich history and is known for its numerous monuments. The city covers an area of about 42.7 km² and has a population of approximately 9.4 million people. New Delhi is situated in the North Indian zone and is considered an expensive place to live."
      ],
      "text/plain": [
       "<IPython.core.display.Markdown object>"
      ]
     },
     "metadata": {},
     "output_type": "display_data"
    },
    {
     "name": "stdout",
     "output_type": "stream",
     "text": [
      "Sources:\n",
      "page_content='New Delhi () is the capital of India and a union territory of the megacity of Delhi. It has a very old history and is home to several monuments where the city is expensive to live in. In traditional Indian geography it falls under the North Indian zone. The city has an area of about 42.7\\xa0km. New Delhi has a population of about 9.4 Million people.'\n",
      "\n",
      "page_content='Rajpath (, meaning \"King\\'s Way\") is the national boulevard of India. It is in New Delhi, the capital of India. The boulevard starts at the home of the President of India and ends at the National Stadium.'\n",
      "\n",
      "page_content=\"Kolkata (spelled Calcutta before 1 January 2001) is the capital city of the Indian state of West Bengal. It is the second largest city in India after Mumbai. It is on the east bank of the River Hooghly. When it is called Calcutta, it includes the suburbs. This makes it the third largest city of India. This also makes it the world's 8th largest metropolitan area as defined by the United Nations. Kolkata served as the capital of India during the British Raj until 1911. Kolkata was once the center of industry and education. However, it has witnessed political violence and economic problems since 1954. Since 2000, Kolkata has grown due to economic growth. Like other metropolitan cities in India, Kolkata struggles with poverty, pollution and traffic congestion.\"\n",
      "\n",
      "page_content='The Republic of India is divided into twenty-eight States,and eight union territories including the National Capital Territory.'\n",
      "\n",
      "page_content='Gandhinagar is the capital city of Gujarat state in India. It is 23\\xa0km from the city of Ahmedabad and 464\\xa0km from Mumbai. In the year 1960, the Bombay state of India was divided into two states - Maharashtra and Gujarat. Bombay (now called Mumbai) became the capital city of Maharashtra. For Gujarat, new capital was needed. Gandhinagar was then made the capital of Gujarat.'\n",
      "\n"
     ]
    },
    {
     "data": {
      "text/plain": [
       "{'input': 'Tell me more about it',\n",
       " 'chat_history': [HumanMessage(content='What is the capital of India?'),\n",
       "  AIMessage(content='The capital of India is New Delhi.'),\n",
       "  HumanMessage(content='What is the capital of India?'),\n",
       "  AIMessage(content='The capital of India is New Delhi.'),\n",
       "  HumanMessage(content='Tell me more about it'),\n",
       "  AIMessage(content='New Delhi is the capital of India and a union territory within the megacity of Delhi. It has a rich history and is home to several significant monuments. The city covers an area of about 42.7 km² and has a population of approximately 9.4 million people. New Delhi is known for its high cost of living and is located in the North Indian zone.'),\n",
       "  HumanMessage(content='What is the capital of India?'),\n",
       "  AIMessage(content='The capital of India is New Delhi.'),\n",
       "  HumanMessage(content='What is the capital of India?'),\n",
       "  AIMessage(content='The capital of India is New Delhi.')],\n",
       " 'context': [Document(page_content='New Delhi () is the capital of India and a union territory of the megacity of Delhi. It has a very old history and is home to several monuments where the city is expensive to live in. In traditional Indian geography it falls under the North Indian zone. The city has an area of about 42.7\\xa0km. New Delhi has a population of about 9.4 Million people.'),\n",
       "  Document(page_content='Rajpath (, meaning \"King\\'s Way\") is the national boulevard of India. It is in New Delhi, the capital of India. The boulevard starts at the home of the President of India and ends at the National Stadium.'),\n",
       "  Document(page_content=\"Kolkata (spelled Calcutta before 1 January 2001) is the capital city of the Indian state of West Bengal. It is the second largest city in India after Mumbai. It is on the east bank of the River Hooghly. When it is called Calcutta, it includes the suburbs. This makes it the third largest city of India. This also makes it the world's 8th largest metropolitan area as defined by the United Nations. Kolkata served as the capital of India during the British Raj until 1911. Kolkata was once the center of industry and education. However, it has witnessed political violence and economic problems since 1954. Since 2000, Kolkata has grown due to economic growth. Like other metropolitan cities in India, Kolkata struggles with poverty, pollution and traffic congestion.\"),\n",
       "  Document(page_content='The Republic of India is divided into twenty-eight States,and eight union territories including the National Capital Territory.'),\n",
       "  Document(page_content='Gandhinagar is the capital city of Gujarat state in India. It is 23\\xa0km from the city of Ahmedabad and 464\\xa0km from Mumbai. In the year 1960, the Bombay state of India was divided into two states - Maharashtra and Gujarat. Bombay (now called Mumbai) became the capital city of Maharashtra. For Gujarat, new capital was needed. Gandhinagar was then made the capital of Gujarat.')],\n",
       " 'answer': 'New Delhi is the capital of India and a union territory within the megacity of Delhi. It has a rich history and is known for its numerous monuments. The city covers an area of about 42.7 km² and has a population of approximately 9.4 million people. New Delhi is situated in the North Indian zone and is considered an expensive place to live.'}"
      ]
     },
     "execution_count": 94,
     "metadata": {},
     "output_type": "execute_result"
    }
   ],
   "source": [
    "r = conv_rag_chatbot(us_id, 'Tell me more about it')"
   ]
  },
  {
   "cell_type": "code",
   "execution_count": null,
   "metadata": {
    "colab": {
     "base_uri": "https://localhost:8080/",
     "height": 709
    },
    "id": "kZz9rmHs7b0h",
    "outputId": "3f5782c2-93f0-4c00-cd57-54eacf081a4d"
   },
   "outputs": [
    {
     "name": "stderr",
     "output_type": "stream",
     "text": [
      "WARNING:langchain_core.tracers.base:Parent run 20e7e624-04bf-452b-b6fe-491645e8b872 not found for run d2c8f149-6281-49f1-a607-6ae13b2ed7d1. Treating as a root run.\n"
     ]
    },
    {
     "name": "stdout",
     "output_type": "stream",
     "text": [
      "Answer:\n"
     ]
    },
    {
     "data": {
      "text/markdown": [
       "The fastest land animal is the cheetah, which can run up to 112 kilometers per hour for a short distance."
      ],
      "text/plain": [
       "<IPython.core.display.Markdown object>"
      ]
     },
     "metadata": {},
     "output_type": "display_data"
    },
    {
     "name": "stdout",
     "output_type": "stream",
     "text": [
      "Sources:\n",
      "page_content='A cheetah (\"Acinonyx jubatus\") is a medium large cat which lives in Africa. It is the fastest land animal and can run up to 112 kilometers per hour for a short time. Most cheetahs live in the savannas of Africa. There are a few in Asia. Cheetahs are active during the day, and hunt in the early morning or late evening.'\n",
      "\n",
      "page_content='The South African Cheetah (\"Acinonyx jubatus jubatus\"), also known as Namibian Cheetah, is the nominate subspecies of cheetah native to Southern Africa. It is the most abundant subspecies estimated at more than 6,000 individuals in the wild. Since 1990 and onwards, the population was estimated at approximately 2,500 individuals in Namibia, until 2015, the cheetah population has been increased to more than 3,500 in the country.'\n",
      "\n",
      "page_content='The flying snake, or \"Chrysopelea\", is a mildly venomous snake found throughout India to the Indonesian archipelago. It can glide, in an arboreal habitat, going from tree to tree, most likely, much like the draco lizard. They\\'re better at \"flying\" than another species of animal similar to this - the flying squirrel.'\n",
      "\n",
      "page_content='The Indian elephant (\"Elephas maximus indicus\") is one of three subspecies of the Asian elephant. It comes from mainland Asia. Since 1986, Elephants \"maximus\" has been listed as endangered by IUCN. The population has declined by at least 50% over the last 60–75 years. The species is also threatened by habitat loss, degradation and herds being split apart into smaller groups. In India it is recognized as the National animal of the country.'\n",
      "\n",
      "page_content='Pallas\\'s fish eagle (\"Haliaeetus leucoryphus\"), also known as Pallas\\'s sea eagle or band-tailed fish eagle, is a large, brownish sea eagle. It breeds in the east Palearctic in Kazakhstan, Russia, Tajikistan, Turkmenistan, Uzbekistan, Mongolia, China, India, Bangladesh, Myanmar and Bhutan. It is listed as endangered on the IUCN Red List.'\n",
      "\n"
     ]
    },
    {
     "data": {
      "text/plain": [
       "{'input': 'What is the fastest animal on land?',\n",
       " 'chat_history': [HumanMessage(content='What is the fastest animal on land?'),\n",
       "  AIMessage(content='The fastest land animal is the cheetah, which can run up to 112 kilometers per hour for a short time.'),\n",
       "  HumanMessage(content='tell me more about its different species'),\n",
       "  AIMessage(content='There are several subspecies of cheetah:\\n\\n1. **South African Cheetah (Acinonyx jubatus jubatus)**: The most abundant subspecies, native to Southern Africa, with an estimated population of over 6,000 individuals in the wild.\\n\\n2. **Asiatic Cheetah (Acinonyx jubatus venaticus)**: A critically endangered subspecies found in Asia, with a very limited population.\\n\\nThese subspecies differ in their habitats and conservation status, with the South African Cheetah being more numerous compared to the critically endangered Asiatic Cheetah.')],\n",
       " 'context': [Document(page_content='A cheetah (\"Acinonyx jubatus\") is a medium large cat which lives in Africa. It is the fastest land animal and can run up to 112 kilometers per hour for a short time. Most cheetahs live in the savannas of Africa. There are a few in Asia. Cheetahs are active during the day, and hunt in the early morning or late evening.'),\n",
       "  Document(page_content='The South African Cheetah (\"Acinonyx jubatus jubatus\"), also known as Namibian Cheetah, is the nominate subspecies of cheetah native to Southern Africa. It is the most abundant subspecies estimated at more than 6,000 individuals in the wild. Since 1990 and onwards, the population was estimated at approximately 2,500 individuals in Namibia, until 2015, the cheetah population has been increased to more than 3,500 in the country.'),\n",
       "  Document(page_content='The flying snake, or \"Chrysopelea\", is a mildly venomous snake found throughout India to the Indonesian archipelago. It can glide, in an arboreal habitat, going from tree to tree, most likely, much like the draco lizard. They\\'re better at \"flying\" than another species of animal similar to this - the flying squirrel.'),\n",
       "  Document(page_content='The Indian elephant (\"Elephas maximus indicus\") is one of three subspecies of the Asian elephant. It comes from mainland Asia. Since 1986, Elephants \"maximus\" has been listed as endangered by IUCN. The population has declined by at least 50% over the last 60–75 years. The species is also threatened by habitat loss, degradation and herds being split apart into smaller groups. In India it is recognized as the National animal of the country.'),\n",
       "  Document(page_content='Pallas\\'s fish eagle (\"Haliaeetus leucoryphus\"), also known as Pallas\\'s sea eagle or band-tailed fish eagle, is a large, brownish sea eagle. It breeds in the east Palearctic in Kazakhstan, Russia, Tajikistan, Turkmenistan, Uzbekistan, Mongolia, China, India, Bangladesh, Myanmar and Bhutan. It is listed as endangered on the IUCN Red List.')],\n",
       " 'answer': 'The fastest land animal is the cheetah, which can run up to 112 kilometers per hour for a short distance.'}"
      ]
     },
     "execution_count": 95,
     "metadata": {},
     "output_type": "execute_result"
    }
   ],
   "source": [
    "us_id = 'jim003'\n",
    "r = conv_rag_chatbot(us_id, 'What is the fastest animal on land?')"
   ]
  },
  {
   "cell_type": "code",
   "execution_count": null,
   "metadata": {
    "colab": {
     "base_uri": "https://localhost:8080/",
     "height": 893
    },
    "id": "OroRf99D7rZF",
    "outputId": "c8788658-062f-4e89-c990-7becf8c4cd52"
   },
   "outputs": [
    {
     "name": "stderr",
     "output_type": "stream",
     "text": [
      "WARNING:langchain_core.tracers.base:Parent run 29307589-afe8-4009-a80d-64231d3e600b not found for run db58af40-2548-4eb6-b809-efd45718c53a. Treating as a root run.\n"
     ]
    },
    {
     "name": "stdout",
     "output_type": "stream",
     "text": [
      "Answer:\n"
     ]
    },
    {
     "data": {
      "text/markdown": [
       "The cheetah has several subspecies:\n",
       "\n",
       "1. **South African Cheetah (Acinonyx jubatus jubatus)**: This is the most common subspecies, primarily found in Southern Africa, with a population exceeding 6,000 individuals.\n",
       "\n",
       "2. **Asiatic Cheetah (Acinonyx jubatus venaticus)**: This subspecies is critically endangered and native to Asia, with a very small population remaining.\n",
       "\n",
       "3. **Northeast African Cheetah (Acinonyx jubatus soemmeringii)**: Found in parts of Northeast Africa, this subspecies is also facing threats to its population.\n",
       "\n",
       "4. **Northwest African Cheetah (Acinonyx jubatus hecki)**: This subspecies is found in the Sahara region and is also endangered.\n",
       "\n",
       "Each subspecies has unique characteristics and faces different conservation challenges."
      ],
      "text/plain": [
       "<IPython.core.display.Markdown object>"
      ]
     },
     "metadata": {},
     "output_type": "display_data"
    },
    {
     "name": "stdout",
     "output_type": "stream",
     "text": [
      "Sources:\n",
      "page_content='A cheetah (\"Acinonyx jubatus\") is a medium large cat which lives in Africa. It is the fastest land animal and can run up to 112 kilometers per hour for a short time. Most cheetahs live in the savannas of Africa. There are a few in Asia. Cheetahs are active during the day, and hunt in the early morning or late evening.'\n",
      "\n",
      "page_content='The South African Cheetah (\"Acinonyx jubatus jubatus\"), also known as Namibian Cheetah, is the nominate subspecies of cheetah native to Southern Africa. It is the most abundant subspecies estimated at more than 6,000 individuals in the wild. Since 1990 and onwards, the population was estimated at approximately 2,500 individuals in Namibia, until 2015, the cheetah population has been increased to more than 3,500 in the country.'\n",
      "\n",
      "page_content='The Asiatic cheetah (\"Acinonyx jubatus venaticus\") is a critically endangered subspecies of the cheetah native to Asia.'\n",
      "\n",
      "page_content='The Felinae is a subfamily of the Felidae. It includes small cats and a few medium-large cats, especially the cougar (\"Puma concolor\") and the cheetah (\"Acinonyx jubatus\").'\n",
      "\n",
      "page_content='The Cheetah is a fictional character, created by William Moulton Marston. She appears in DC Comics publications and related media, commonly as a major villain to the superhero Wonder Woman.'\n",
      "\n"
     ]
    },
    {
     "data": {
      "text/plain": [
       "{'input': 'tell me more about its different species',\n",
       " 'chat_history': [HumanMessage(content='What is the fastest animal on land?'),\n",
       "  AIMessage(content='The fastest land animal is the cheetah, which can run up to 112 kilometers per hour for a short time.'),\n",
       "  HumanMessage(content='tell me more about its different species'),\n",
       "  AIMessage(content='There are several subspecies of cheetah:\\n\\n1. **South African Cheetah (Acinonyx jubatus jubatus)**: The most abundant subspecies, native to Southern Africa, with an estimated population of over 6,000 individuals in the wild.\\n\\n2. **Asiatic Cheetah (Acinonyx jubatus venaticus)**: A critically endangered subspecies found in Asia, with a very limited population.\\n\\nThese subspecies differ in their habitats and conservation status, with the South African Cheetah being more numerous compared to the critically endangered Asiatic Cheetah.'),\n",
       "  HumanMessage(content='What is the fastest animal on land?'),\n",
       "  AIMessage(content='The fastest land animal is the cheetah, which can run up to 112 kilometers per hour for a short distance.')],\n",
       " 'context': [Document(page_content='A cheetah (\"Acinonyx jubatus\") is a medium large cat which lives in Africa. It is the fastest land animal and can run up to 112 kilometers per hour for a short time. Most cheetahs live in the savannas of Africa. There are a few in Asia. Cheetahs are active during the day, and hunt in the early morning or late evening.'),\n",
       "  Document(page_content='The South African Cheetah (\"Acinonyx jubatus jubatus\"), also known as Namibian Cheetah, is the nominate subspecies of cheetah native to Southern Africa. It is the most abundant subspecies estimated at more than 6,000 individuals in the wild. Since 1990 and onwards, the population was estimated at approximately 2,500 individuals in Namibia, until 2015, the cheetah population has been increased to more than 3,500 in the country.'),\n",
       "  Document(page_content='The Asiatic cheetah (\"Acinonyx jubatus venaticus\") is a critically endangered subspecies of the cheetah native to Asia.'),\n",
       "  Document(page_content='The Felinae is a subfamily of the Felidae. It includes small cats and a few medium-large cats, especially the cougar (\"Puma concolor\") and the cheetah (\"Acinonyx jubatus\").'),\n",
       "  Document(page_content='The Cheetah is a fictional character, created by William Moulton Marston. She appears in DC Comics publications and related media, commonly as a major villain to the superhero Wonder Woman.')],\n",
       " 'answer': 'The cheetah has several subspecies:\\n\\n1. **South African Cheetah (Acinonyx jubatus jubatus)**: This is the most common subspecies, primarily found in Southern Africa, with a population exceeding 6,000 individuals.\\n\\n2. **Asiatic Cheetah (Acinonyx jubatus venaticus)**: This subspecies is critically endangered and native to Asia, with a very small population remaining.\\n\\n3. **Northeast African Cheetah (Acinonyx jubatus soemmeringii)**: Found in parts of Northeast Africa, this subspecies is also facing threats to its population.\\n\\n4. **Northwest African Cheetah (Acinonyx jubatus hecki)**: This subspecies is found in the Sahara region and is also endangered.\\n\\nEach subspecies has unique characteristics and faces different conservation challenges.'}"
      ]
     },
     "execution_count": 96,
     "metadata": {},
     "output_type": "execute_result"
    }
   ],
   "source": [
    "r = conv_rag_chatbot(us_id, 'tell me more about its different species')"
   ]
  },
  {
   "cell_type": "code",
   "execution_count": null,
   "metadata": {
    "colab": {
     "base_uri": "https://localhost:8080/",
     "height": 969
    },
    "id": "icEp-_b984-r",
    "outputId": "39e1d3ca-6fdd-429d-da0c-6bdd8aa7d4e2"
   },
   "outputs": [
    {
     "name": "stderr",
     "output_type": "stream",
     "text": [
      "WARNING:langchain_core.tracers.base:Parent run 9427f02c-c200-440c-bd00-c4632b647d7c not found for run 4dd9bbc4-4cc8-45a8-b602-0aa0633a71be. Treating as a root run.\n"
     ]
    },
    {
     "name": "stdout",
     "output_type": "stream",
     "text": [
      "Answer:\n"
     ]
    },
    {
     "data": {
      "text/markdown": [
       "The financial capital of India is Mumbai. It is home to the National Stock Exchange of India (NSE), which is the largest stock exchange in India and the third largest in the world by transaction volume. Mumbai is also the headquarters for many major financial institutions, banks, and corporations, making it a key economic hub in the country."
      ],
      "text/plain": [
       "<IPython.core.display.Markdown object>"
      ]
     },
     "metadata": {},
     "output_type": "display_data"
    },
    {
     "name": "stdout",
     "output_type": "stream",
     "text": [
      "Sources:\n",
      "page_content='New Delhi () is the capital of India and a union territory of the megacity of Delhi. It has a very old history and is home to several monuments where the city is expensive to live in. In traditional Indian geography it falls under the North Indian zone. The city has an area of about 42.7\\xa0km. New Delhi has a population of about 9.4 Million people.'\n",
      "\n",
      "page_content='The National Stock Exchange of India Limited (NSE), is a Mumbai-based stock exchange. It is the biggest stock exchange in India and the third biggest in the world in terms of amounts of transactions. NSE is mutually-owned by a set of leading financial institutions, banks, insurance companies and other financial intermediaries in India but its ownership and management operate as separate groups. As of 2006, the NSE VSAT terminals, 2799 in total, cover more than 1500 cities across India. In July 2007, the NSE had a total market capitalization of 42,74,509 crore INR making it the second-largest stock market in South Asia in terms of market-capitalization.'\n",
      "\n",
      "page_content='State Bank of India (SBI) is the largest bank in India. It is owned by the government of India. SBI headquarters are in Mumbai.'\n",
      "\n",
      "page_content=\"Kolkata (spelled Calcutta before 1 January 2001) is the capital city of the Indian state of West Bengal. It is the second largest city in India after Mumbai. It is on the east bank of the River Hooghly. When it is called Calcutta, it includes the suburbs. This makes it the third largest city of India. This also makes it the world's 8th largest metropolitan area as defined by the United Nations. Kolkata served as the capital of India during the British Raj until 1911. Kolkata was once the center of industry and education. However, it has witnessed political violence and economic problems since 1954. Since 2000, Kolkata has grown due to economic growth. Like other metropolitan cities in India, Kolkata struggles with poverty, pollution and traffic congestion.\"\n",
      "\n",
      "page_content=\"The Economy of India is the fifth largest in the world with a GDP (a year's goods and services) of $2.94 trillion (U.S.). If you consider PPP (purchasing power parity: how much that money can buy in India compared to other countries), the economy is third largest (worth $10.51 trillion U.S.). However, due to India's huge population, the economy was still only $6,209 (considering PPP) per person per year in 2015.\"\n",
      "\n"
     ]
    },
    {
     "data": {
      "text/plain": [
       "{'input': 'What about the financial capital of India?',\n",
       " 'chat_history': [HumanMessage(content='What is the capital of India?'),\n",
       "  AIMessage(content='The capital of India is New Delhi.'),\n",
       "  HumanMessage(content='What is the capital of India?'),\n",
       "  AIMessage(content='The capital of India is New Delhi.'),\n",
       "  HumanMessage(content='Tell me more about it'),\n",
       "  AIMessage(content='New Delhi is the capital of India and a union territory within the megacity of Delhi. It has a rich history and is home to several significant monuments. The city covers an area of about 42.7 km² and has a population of approximately 9.4 million people. New Delhi is known for its high cost of living and is located in the North Indian zone.'),\n",
       "  HumanMessage(content='What is the capital of India?'),\n",
       "  AIMessage(content='The capital of India is New Delhi.'),\n",
       "  HumanMessage(content='What is the capital of India?'),\n",
       "  AIMessage(content='The capital of India is New Delhi.'),\n",
       "  HumanMessage(content='Tell me more about it'),\n",
       "  AIMessage(content='New Delhi is the capital of India and a union territory within the megacity of Delhi. It has a rich history and is known for its numerous monuments. The city covers an area of about 42.7 km² and has a population of approximately 9.4 million people. New Delhi is situated in the North Indian zone and is considered an expensive place to live.')],\n",
       " 'context': [Document(page_content='New Delhi () is the capital of India and a union territory of the megacity of Delhi. It has a very old history and is home to several monuments where the city is expensive to live in. In traditional Indian geography it falls under the North Indian zone. The city has an area of about 42.7\\xa0km. New Delhi has a population of about 9.4 Million people.'),\n",
       "  Document(page_content='The National Stock Exchange of India Limited (NSE), is a Mumbai-based stock exchange. It is the biggest stock exchange in India and the third biggest in the world in terms of amounts of transactions. NSE is mutually-owned by a set of leading financial institutions, banks, insurance companies and other financial intermediaries in India but its ownership and management operate as separate groups. As of 2006, the NSE VSAT terminals, 2799 in total, cover more than 1500 cities across India. In July 2007, the NSE had a total market capitalization of 42,74,509 crore INR making it the second-largest stock market in South Asia in terms of market-capitalization.'),\n",
       "  Document(page_content='State Bank of India (SBI) is the largest bank in India. It is owned by the government of India. SBI headquarters are in Mumbai.'),\n",
       "  Document(page_content=\"Kolkata (spelled Calcutta before 1 January 2001) is the capital city of the Indian state of West Bengal. It is the second largest city in India after Mumbai. It is on the east bank of the River Hooghly. When it is called Calcutta, it includes the suburbs. This makes it the third largest city of India. This also makes it the world's 8th largest metropolitan area as defined by the United Nations. Kolkata served as the capital of India during the British Raj until 1911. Kolkata was once the center of industry and education. However, it has witnessed political violence and economic problems since 1954. Since 2000, Kolkata has grown due to economic growth. Like other metropolitan cities in India, Kolkata struggles with poverty, pollution and traffic congestion.\"),\n",
       "  Document(page_content=\"The Economy of India is the fifth largest in the world with a GDP (a year's goods and services) of $2.94 trillion (U.S.). If you consider PPP (purchasing power parity: how much that money can buy in India compared to other countries), the economy is third largest (worth $10.51 trillion U.S.). However, due to India's huge population, the economy was still only $6,209 (considering PPP) per person per year in 2015.\")],\n",
       " 'answer': 'The financial capital of India is Mumbai. It is home to the National Stock Exchange of India (NSE), which is the largest stock exchange in India and the third largest in the world by transaction volume. Mumbai is also the headquarters for many major financial institutions, banks, and corporations, making it a key economic hub in the country.'}"
      ]
     },
     "execution_count": 97,
     "metadata": {},
     "output_type": "execute_result"
    }
   ],
   "source": [
    "us_id = 'bond007'\n",
    "r = conv_rag_chatbot(us_id, 'What about the financial capital of India?')"
   ]
  },
  {
   "cell_type": "code",
   "execution_count": null,
   "metadata": {
    "id": "CdJxxitZBwAj"
   },
   "outputs": [],
   "source": []
  }
 ],
 "metadata": {
  "colab": {
   "provenance": []
  },
  "kernelspec": {
   "display_name": "Python [conda env:base] *",
   "language": "python",
   "name": "conda-base-py"
  },
  "language_info": {
   "codemirror_mode": {
    "name": "ipython",
    "version": 3
   },
   "file_extension": ".py",
   "mimetype": "text/x-python",
   "name": "python",
   "nbconvert_exporter": "python",
   "pygments_lexer": "ipython3",
   "version": "3.11.8"
  }
 },
 "nbformat": 4,
 "nbformat_minor": 4
}
